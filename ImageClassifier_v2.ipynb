{
  "cells": [
    {
      "cell_type": "code",
      "execution_count": null,
      "metadata": {
        "id": "vt59Xa88R_Z5"
      },
      "outputs": [],
      "source": [
        ""
      ]
    },
    {
      "cell_type": "code",
      "execution_count": null,
      "metadata": {
        "id": "DwSRa6qZR_Z6"
      },
      "outputs": [],
      "source": [
        "# Common imports\n",
        "import os\n",
        "import imutils\n",
        "from imutils import paths\n",
        "\n"
      ]
    },
    {
      "cell_type": "code",
      "execution_count": null,
      "metadata": {
        "id": "wPHgV_OWR_Z6"
      },
      "outputs": [],
      "source": [
        "import cv2\n",
        "import numpy as np\n",
        "import pandas as pd\n",
        "# To plot pretty figures\n",
        "%matplotlib inline\n",
        "import matplotlib as mpl\n",
        "import matplotlib.pyplot as plt\n",
        "mpl.rc('axes', labelsize=14)\n",
        "mpl.rc('xtick', labelsize=12)\n",
        "mpl.rc('ytick', labelsize=12)\n",
        "# to make this notebook's output stable across runs\n",
        "np.random.seed(42)"
      ]
    },
    {
      "cell_type": "markdown",
      "metadata": {
        "id": "2vlPo4mrR_Z7"
      },
      "source": [
        "## Loading Images"
      ]
    },
    {
      "cell_type": "code",
      "execution_count": null,
      "metadata": {
        "id": "LYoL7A1CR_Z8"
      },
      "outputs": [],
      "source": [
        "#os.getcwd()\n",
        "from google.colab import drive"
      ]
    },
    {
      "cell_type": "code",
      "source": [
        "drive.mount('/content/drive')"
      ],
      "metadata": {
        "colab": {
          "base_uri": "https://localhost:8080/"
        },
        "id": "AbutY9PfX_XH",
        "outputId": "79011e74-60be-4b45-ea96-b94eebb7c64d"
      },
      "execution_count": null,
      "outputs": [
        {
          "output_type": "stream",
          "name": "stdout",
          "text": [
            "Mounted at /content/drive\n"
          ]
        }
      ]
    },
    {
      "cell_type": "code",
      "source": [
        ""
      ],
      "metadata": {
        "id": "DJH-ZrjfYWU6"
      },
      "execution_count": null,
      "outputs": []
    },
    {
      "cell_type": "code",
      "execution_count": null,
      "metadata": {
        "id": "__pk6HGlR_Z-"
      },
      "outputs": [],
      "source": [
        "images = []\n",
        "labels = []"
      ]
    },
    {
      "cell_type": "code",
      "execution_count": null,
      "metadata": {
        "id": "sdO_8eCER_Z_"
      },
      "outputs": [],
      "source": [
        "image_folder_Path = '/content/drive/MyDrive/1111_Spring 2022/DS-380-A Mayo Clinic Internship/Internship Research/FUNSD - form understanding/DataSET'\n"
      ]
    },
    {
      "cell_type": "code",
      "execution_count": null,
      "metadata": {
        "colab": {
          "base_uri": "https://localhost:8080/",
          "height": 36
        },
        "id": "WllrP4caR_aA",
        "outputId": "52b33681-2354-4b46-b10b-2664f42b961a"
      },
      "outputs": [
        {
          "output_type": "execute_result",
          "data": {
            "text/plain": [
              "'/content/drive/MyDrive/1111_Spring 2022/DS-380-A Mayo Clinic Internship/Internship Research/FUNSD - form understanding/DataSET'"
            ],
            "application/vnd.google.colaboratory.intrinsic+json": {
              "type": "string"
            }
          },
          "metadata": {},
          "execution_count": 7
        }
      ],
      "source": [
        "image_folder_Path"
      ]
    },
    {
      "cell_type": "code",
      "execution_count": null,
      "metadata": {
        "id": "T4HTQHVkR_aB"
      },
      "outputs": [],
      "source": [
        "\n",
        "for image_file_path in imutils.paths.list_images(image_folder_Path):\n",
        "    image_file = cv2.imread(image_file_path, cv2.IMREAD_GRAYSCALE)\n",
        "    resized_img = cv2.resize(image_file,(760,1000))\n",
        "    label = image_file_path.split('/')[9]\n",
        "    images.append(resized_img)\n",
        "    labels.append(label)\n"
      ]
    },
    {
      "cell_type": "code",
      "execution_count": null,
      "metadata": {
        "id": "JoB7xkM9R_aB"
      },
      "outputs": [],
      "source": [
        "pdf_labels_dict = {\n",
        "    'Q01_unreadable_text': 0,\n",
        "    'Q02_unclear_text_breaky_sticky': 1,\n",
        "    'Q03_semi_clear_text': 2,\n",
        "    'Q04_clear_text': 3,\n",
        "    'Q05_perfectly_clear_text': 4,\n",
        "}\n",
        "numbered_Labels = []\n",
        "for label in labels:\n",
        "    label = pdf_labels_dict[label]\n",
        "    numbered_Labels.append(label)\n",
        "labels =numbered_Labels"
      ]
    },
    {
      "cell_type": "code",
      "execution_count": null,
      "metadata": {
        "colab": {
          "base_uri": "https://localhost:8080/"
        },
        "id": "z_zXRBZAR_aC",
        "outputId": "60d0aeb9-12c2-4dbe-b0a2-dad4073a6e3d"
      },
      "outputs": [
        {
          "output_type": "execute_result",
          "data": {
            "text/plain": [
              "[0, 0, 0, 0, 0, 0, 0, 1, 1, 1, 1, 1, 1, 1, 1, 1, 1, 1, 1, 1]"
            ]
          },
          "metadata": {},
          "execution_count": 10
        }
      ],
      "source": [
        "labels[:20]"
      ]
    },
    {
      "cell_type": "code",
      "execution_count": null,
      "metadata": {
        "colab": {
          "base_uri": "https://localhost:8080/"
        },
        "id": "lM-OjyE_R_aC",
        "outputId": "c7047d51-8c4b-4aff-950c-f116630b4c7f"
      },
      "outputs": [
        {
          "output_type": "execute_result",
          "data": {
            "text/plain": [
              "[array([[255, 255, 255, ..., 255, 255, 255],\n",
              "        [255, 255, 255, ..., 255, 255, 255],\n",
              "        [255, 255, 255, ..., 255, 255, 255],\n",
              "        ...,\n",
              "        [255, 255, 255, ..., 255, 255, 255],\n",
              "        [255, 255, 255, ..., 255, 255, 255],\n",
              "        [255, 255, 255, ..., 255, 255, 255]], dtype=uint8),\n",
              " array([[122, 119,   0, ..., 255, 255, 255],\n",
              "        [122, 119,   0, ..., 255, 255, 255],\n",
              "        [122, 119,   0, ..., 255, 255, 255],\n",
              "        ...,\n",
              "        [122, 119,   0, ..., 255, 255, 255],\n",
              "        [122, 119,   0, ..., 255, 255, 255],\n",
              "        [122, 119,   0, ..., 255, 255, 255]], dtype=uint8)]"
            ]
          },
          "metadata": {},
          "execution_count": 11
        }
      ],
      "source": [
        "images[:2]"
      ]
    },
    {
      "cell_type": "code",
      "execution_count": null,
      "metadata": {
        "colab": {
          "base_uri": "https://localhost:8080/",
          "height": 290
        },
        "id": "vcvYkQvaR_aC",
        "outputId": "af27168a-4261-459f-c931-01eb629ce467"
      },
      "outputs": [
        {
          "output_type": "execute_result",
          "data": {
            "text/plain": [
              "3"
            ]
          },
          "metadata": {},
          "execution_count": 12
        },
        {
          "output_type": "display_data",
          "data": {
            "text/plain": [
              "<Figure size 432x288 with 1 Axes>"
            ],
            "image/png": "[encoded data removed]"
          },
          "metadata": {
            "needs_background": "light"
          }
        }
      ],
      "source": [
        "img = images[200]\n",
        "plt.imshow(img, cmap = 'gray')\n",
        "labels[200]"
      ]
    },
    {
      "cell_type": "code",
      "execution_count": null,
      "metadata": {
        "colab": {
          "base_uri": "https://localhost:8080/"
        },
        "id": "lxgs30uFR_aD",
        "outputId": "b7ec51d5-59b6-4da2-8dd6-009e36f7ac51"
      },
      "outputs": [
        {
          "output_type": "execute_result",
          "data": {
            "text/plain": [
              "(1000, 760)"
            ]
          },
          "metadata": {},
          "execution_count": 13
        }
      ],
      "source": [
        "img.shape"
      ]
    },
    {
      "cell_type": "code",
      "execution_count": null,
      "metadata": {
        "id": "IkywCoLbR_aD"
      },
      "outputs": [],
      "source": [
        "X, y = images, labels"
      ]
    },
    {
      "cell_type": "code",
      "execution_count": null,
      "metadata": {
        "id": "75OC6EUwR_aD"
      },
      "outputs": [],
      "source": [
        "X = np.array(X)\n",
        "y = np.array(y)"
      ]
    },
    {
      "cell_type": "markdown",
      "metadata": {
        "id": "Ymk2IRHiR_aD"
      },
      "source": [
        "## Train test split"
      ]
    },
    {
      "cell_type": "code",
      "execution_count": null,
      "metadata": {
        "id": "dDgzICJRR_aE"
      },
      "outputs": [],
      "source": [
        "from sklearn.model_selection import train_test_split\n",
        "X_train, X_test, y_train, y_test = train_test_split(X, y, random_state=0)"
      ]
    },
    {
      "cell_type": "code",
      "execution_count": null,
      "metadata": {
        "colab": {
          "base_uri": "https://localhost:8080/"
        },
        "id": "zY-stCN6R_aE",
        "outputId": "d7e254f5-10ab-4b3f-afb4-6b39aa1a4448"
      },
      "outputs": [
        {
          "output_type": "execute_result",
          "data": {
            "text/plain": [
              "(243, 1000, 760)"
            ]
          },
          "metadata": {},
          "execution_count": 17
        }
      ],
      "source": [
        "X_train.shape"
      ]
    },
    {
      "cell_type": "code",
      "execution_count": null,
      "metadata": {
        "colab": {
          "base_uri": "https://localhost:8080/"
        },
        "id": "6eWGKPmJR_aE",
        "outputId": "a927c2aa-2f30-4708-fc62-f50ce45e1499"
      },
      "outputs": [
        {
          "output_type": "execute_result",
          "data": {
            "text/plain": [
              "(82, 1000, 760)"
            ]
          },
          "metadata": {},
          "execution_count": 18
        }
      ],
      "source": [
        "X_test.shape"
      ]
    },
    {
      "cell_type": "markdown",
      "metadata": {
        "id": "J7ao5BsIR_aF"
      },
      "source": [
        "## Preprocessing: scale images"
      ]
    },
    {
      "cell_type": "code",
      "execution_count": null,
      "metadata": {
        "id": "H5dvLvg6R_aF"
      },
      "outputs": [],
      "source": [
        "X_train_scaled = X_train / 255\n",
        "X_test_scaled = X_test / 255"
      ]
    },
    {
      "cell_type": "code",
      "execution_count": null,
      "metadata": {
        "colab": {
          "base_uri": "https://localhost:8080/"
        },
        "id": "rhX82_GGR_aF",
        "outputId": "904a3358-776c-49be-ffa1-befc3d1b6eae"
      },
      "outputs": [
        {
          "output_type": "execute_result",
          "data": {
            "text/plain": [
              "array([[1., 1., 1., ..., 1., 1., 1.],\n",
              "       [1., 1., 1., ..., 1., 1., 1.],\n",
              "       [1., 1., 1., ..., 1., 1., 1.],\n",
              "       ...,\n",
              "       [1., 1., 1., ..., 1., 1., 1.],\n",
              "       [1., 1., 1., ..., 1., 1., 1.],\n",
              "       [1., 1., 1., ..., 1., 1., 1.]])"
            ]
          },
          "metadata": {},
          "execution_count": 20
        }
      ],
      "source": [
        "X_train_scaled[0]"
      ]
    },
    {
      "cell_type": "code",
      "execution_count": null,
      "metadata": {
        "colab": {
          "base_uri": "https://localhost:8080/"
        },
        "id": "v65vAo3yR_aG",
        "outputId": "59c24e6f-f7ee-4b99-d48b-cdc9dd02f0f1"
      },
      "outputs": [
        {
          "output_type": "execute_result",
          "data": {
            "text/plain": [
              "array([[1., 1., 1., ..., 1., 1., 1.],\n",
              "       [1., 1., 1., ..., 1., 1., 1.],\n",
              "       [1., 1., 1., ..., 1., 1., 1.],\n",
              "       ...,\n",
              "       [1., 1., 1., ..., 1., 1., 1.],\n",
              "       [1., 1., 1., ..., 1., 1., 1.],\n",
              "       [1., 1., 1., ..., 1., 1., 1.]])"
            ]
          },
          "metadata": {},
          "execution_count": 21
        }
      ],
      "source": [
        "X_test_scaled[0]"
      ]
    },
    {
      "cell_type": "markdown",
      "metadata": {
        "id": "5QXWuBfaR_aG"
      },
      "source": [
        "## Training convolutional neural network "
      ]
    },
    {
      "cell_type": "code",
      "execution_count": null,
      "metadata": {
        "id": "0FdRvxkNR_aH"
      },
      "outputs": [],
      "source": [
        "import tensorflow as tf\n",
        "\n",
        "from tensorflow import keras\n",
        "from tensorflow.keras import layers\n",
        "from tensorflow.keras.models import Sequential"
      ]
    },
    {
      "cell_type": "code",
      "execution_count": null,
      "metadata": {
        "colab": {
          "base_uri": "https://localhost:8080/"
        },
        "id": "gHmZYfwBR_aH",
        "outputId": "52317e7d-c160-44d2-ca32-421fb77432bb"
      },
      "outputs": [
        {
          "output_type": "stream",
          "name": "stdout",
          "text": [
            "Epoch 1/30\n",
            "8/8 [==============================] - 21s 759ms/step - loss: 34.7950 - accuracy: 0.2634\n",
            "Epoch 2/30\n",
            "8/8 [==============================] - 3s 386ms/step - loss: 2.3006 - accuracy: 0.2922\n",
            "Epoch 3/30\n",
            "8/8 [==============================] - 3s 385ms/step - loss: 1.4349 - accuracy: 0.3128\n",
            "Epoch 4/30\n",
            "8/8 [==============================] - 3s 382ms/step - loss: 1.2384 - accuracy: 0.4733\n",
            "Epoch 5/30\n",
            "8/8 [==============================] - 3s 387ms/step - loss: 1.1057 - accuracy: 0.6049\n",
            "Epoch 6/30\n",
            "8/8 [==============================] - 3s 386ms/step - loss: 0.8623 - accuracy: 0.6708\n",
            "Epoch 7/30\n",
            "8/8 [==============================] - 3s 387ms/step - loss: 0.7392 - accuracy: 0.7737\n",
            "Epoch 8/30\n",
            "8/8 [==============================] - 3s 387ms/step - loss: 0.4151 - accuracy: 0.8889\n",
            "Epoch 9/30\n",
            "8/8 [==============================] - 3s 386ms/step - loss: 0.2303 - accuracy: 0.9424\n",
            "Epoch 10/30\n",
            "8/8 [==============================] - 3s 387ms/step - loss: 0.1100 - accuracy: 0.9712\n",
            "Epoch 11/30\n",
            "8/8 [==============================] - 3s 387ms/step - loss: 0.0520 - accuracy: 0.9918\n",
            "Epoch 12/30\n",
            "8/8 [==============================] - 3s 388ms/step - loss: 0.0164 - accuracy: 1.0000\n",
            "Epoch 13/30\n",
            "8/8 [==============================] - 3s 389ms/step - loss: 0.0054 - accuracy: 1.0000\n",
            "Epoch 14/30\n",
            "8/8 [==============================] - 3s 389ms/step - loss: 0.0019 - accuracy: 1.0000\n",
            "Epoch 15/30\n",
            "8/8 [==============================] - 3s 390ms/step - loss: 7.4014e-04 - accuracy: 1.0000\n",
            "Epoch 16/30\n",
            "8/8 [==============================] - 3s 388ms/step - loss: 4.3716e-04 - accuracy: 1.0000\n",
            "Epoch 17/30\n",
            "8/8 [==============================] - 3s 392ms/step - loss: 2.7903e-04 - accuracy: 1.0000\n",
            "Epoch 18/30\n",
            "8/8 [==============================] - 3s 393ms/step - loss: 2.2061e-04 - accuracy: 1.0000\n",
            "Epoch 19/30\n",
            "8/8 [==============================] - 3s 390ms/step - loss: 1.8138e-04 - accuracy: 1.0000\n",
            "Epoch 20/30\n",
            "8/8 [==============================] - 3s 393ms/step - loss: 1.5130e-04 - accuracy: 1.0000\n",
            "Epoch 21/30\n",
            "8/8 [==============================] - 3s 393ms/step - loss: 1.3384e-04 - accuracy: 1.0000\n",
            "Epoch 22/30\n",
            "8/8 [==============================] - 3s 391ms/step - loss: 1.1949e-04 - accuracy: 1.0000\n",
            "Epoch 23/30\n",
            "8/8 [==============================] - 3s 393ms/step - loss: 1.0793e-04 - accuracy: 1.0000\n",
            "Epoch 24/30\n",
            "8/8 [==============================] - 3s 394ms/step - loss: 9.6855e-05 - accuracy: 1.0000\n",
            "Epoch 25/30\n",
            "8/8 [==============================] - 3s 394ms/step - loss: 8.9081e-05 - accuracy: 1.0000\n",
            "Epoch 26/30\n",
            "8/8 [==============================] - 3s 394ms/step - loss: 8.1506e-05 - accuracy: 1.0000\n",
            "Epoch 27/30\n",
            "8/8 [==============================] - 3s 391ms/step - loss: 7.5674e-05 - accuracy: 1.0000\n",
            "Epoch 28/30\n",
            "8/8 [==============================] - 3s 394ms/step - loss: 6.9082e-05 - accuracy: 1.0000\n",
            "Epoch 29/30\n",
            "8/8 [==============================] - 3s 396ms/step - loss: 6.4630e-05 - accuracy: 1.0000\n",
            "Epoch 30/30\n",
            "8/8 [==============================] - 3s 391ms/step - loss: 5.9624e-05 - accuracy: 1.0000\n"
          ]
        },
        {
          "output_type": "execute_result",
          "data": {
            "text/plain": [
              "<keras.callbacks.History at 0x7fea704cc650>"
            ]
          },
          "metadata": {},
          "execution_count": 23
        }
      ],
      "source": [
        "num_classes = 5\n",
        "input_shape=(5, 1000, 760,1)\n",
        "model = Sequential([\n",
        "  layers.Conv2D(16, 3, padding='same', activation='relu', input_shape=input_shape[1:]),\n",
        "  layers.MaxPooling2D(),\n",
        "  layers.Conv2D(32, 3, padding='same', activation='relu'),\n",
        "  layers.MaxPooling2D(),\n",
        "  layers.Conv2D(64, 3, padding='same', activation='relu'),\n",
        "  layers.MaxPooling2D(),\n",
        "  layers.Flatten(),\n",
        "  layers.Dense(128, activation='relu'),\n",
        "  layers.Dense(num_classes)\n",
        "])\n",
        "\n",
        "model.compile(optimizer='adam',\n",
        "              loss=tf.keras.losses.SparseCategoricalCrossentropy(from_logits=True),\n",
        "              metrics=['accuracy'])\n",
        "              \n",
        "model.fit(X_train_scaled, y_train, epochs=30) "
      ]
    },
    {
      "cell_type": "code",
      "execution_count": null,
      "metadata": {
        "colab": {
          "base_uri": "https://localhost:8080/"
        },
        "id": "YNMDv29wR_aH",
        "outputId": "45a8fb39-18ad-43b0-f1e9-fb3afc2a8f15"
      },
      "outputs": [
        {
          "output_type": "stream",
          "name": "stdout",
          "text": [
            "3/3 [==============================] - 1s 486ms/step - loss: 5.8409 - accuracy: 0.3537\n"
          ]
        },
        {
          "output_type": "execute_result",
          "data": {
            "text/plain": [
              "[5.8408613204956055, 0.353658527135849]"
            ]
          },
          "metadata": {},
          "execution_count": 24
        }
      ],
      "source": [
        "model.evaluate(X_test_scaled,y_test)"
      ]
    },
    {
      "cell_type": "markdown",
      "metadata": {
        "id": "UvyLOOKgR_aI"
      },
      "source": [
        "### Here we see that while train accuracy is very high (97%), the test accuracy is significantly low (26.83%) indicating overfitting. Let's make some predictions before we use data augmentation to address overfitting"
      ]
    },
    {
      "cell_type": "code",
      "execution_count": null,
      "metadata": {
        "colab": {
          "base_uri": "https://localhost:8080/"
        },
        "id": "C3RXyoPMR_aI",
        "outputId": "9fa23960-aa3c-4b75-9524-3b3c067054c9"
      },
      "outputs": [
        {
          "output_type": "execute_result",
          "data": {
            "text/plain": [
              "array([], shape=(0, 5), dtype=float32)"
            ]
          },
          "metadata": {},
          "execution_count": 30
        }
      ],
      "source": [
        "predictions = model.predict(X_test_scaled)\n",
        "predictions[:0]"
      ]
    },
    {
      "cell_type": "code",
      "execution_count": null,
      "metadata": {
        "id": "ZUXRpuTbR_aI"
      },
      "outputs": [],
      "source": [
        "score = tf.nn.softmax(predictions[0])"
      ]
    },
    {
      "cell_type": "code",
      "execution_count": null,
      "metadata": {
        "colab": {
          "base_uri": "https://localhost:8080/"
        },
        "id": "F9DukuhLR_aJ",
        "outputId": "8163eed2-0a76-4f8b-d646-60d629bc9cde"
      },
      "outputs": [
        {
          "output_type": "execute_result",
          "data": {
            "text/plain": [
              "3"
            ]
          },
          "metadata": {},
          "execution_count": 32
        }
      ],
      "source": [
        "np.argmax(score)"
      ]
    },
    {
      "cell_type": "code",
      "execution_count": null,
      "metadata": {
        "colab": {
          "base_uri": "https://localhost:8080/"
        },
        "id": "DJccZ9QHR_aJ",
        "outputId": "b1147593-0aef-4498-8d17-00dbc4c10be9"
      },
      "outputs": [
        {
          "output_type": "execute_result",
          "data": {
            "text/plain": [
              "4"
            ]
          },
          "metadata": {},
          "execution_count": 34
        }
      ],
      "source": [
        "y_test[0]"
      ]
    },
    {
      "cell_type": "markdown",
      "metadata": {
        "id": "WRovtDuZR_aJ"
      },
      "source": [
        "## Improve Test Accuracy Using Data Augmentation"
      ]
    },
    {
      "cell_type": "code",
      "execution_count": null,
      "metadata": {
        "id": "ambh5LEWR_aK"
      },
      "outputs": [],
      "source": [
        "data_augmentation = keras.Sequential(\n",
        "  [\n",
        "    layers.experimental.preprocessing.RandomFlip(\"horizontal\", \n",
        "                                                 input_shape=(1000, \n",
        "                                                              760,\n",
        "                                                              1)),\n",
        "    layers.experimental.preprocessing.RandomRotation(0.1),\n",
        "    layers.experimental.preprocessing.RandomZoom(0.1),\n",
        "  ]\n",
        ")"
      ]
    },
    {
      "cell_type": "markdown",
      "metadata": {
        "id": "a6W0-sGwR_aK"
      },
      "source": [
        "### check on original image"
      ]
    },
    {
      "cell_type": "code",
      "execution_count": null,
      "metadata": {
        "colab": {
          "base_uri": "https://localhost:8080/",
          "height": 265
        },
        "id": "fUVf0FFlR_aK",
        "outputId": "a191b7d0-9bb5-44ef-e78f-1c8707577832"
      },
      "outputs": [
        {
          "output_type": "execute_result",
          "data": {
            "text/plain": [
              "<matplotlib.image.AxesImage at 0x7f8200121e50>"
            ]
          },
          "metadata": {},
          "execution_count": 36
        },
        {
          "output_type": "display_data",
          "data": {
            "text/plain": [
              "<Figure size 432x288 with 1 Axes>"
            ],
            "image/png": "[encoded data removed]"
          },
          "metadata": {
            "needs_background": "light"
          }
        }
      ],
      "source": [
        "plt.axis('off')\n",
        "plt.imshow(X[0], cmap = 'gray')"
      ]
    },
    {
      "cell_type": "markdown",
      "metadata": {
        "id": "ROcqOLNpR_aL"
      },
      "source": [
        "### Newly generated training sample using data augmentation"
      ]
    },
    {
      "cell_type": "code",
      "execution_count": null,
      "metadata": {
        "colab": {
          "base_uri": "https://localhost:8080/",
          "height": 560
        },
        "id": "eIRJ90ciR_aM",
        "outputId": "cfa6a595-da2b-4887-f466-8e52f1434669"
      },
      "outputs": [
        {
          "output_type": "error",
          "ename": "TypeError",
          "evalue": "ignored",
          "traceback": [
            "\u001b[0;31m---------------------------------------------------------------------------\u001b[0m",
            "\u001b[0;31mTypeError\u001b[0m                                 Traceback (most recent call last)",
            "\u001b[0;32m<ipython-input-38-398978fdc6b2>\u001b[0m in \u001b[0;36m<module>\u001b[0;34m()\u001b[0m\n\u001b[1;32m      1\u001b[0m \u001b[0mplt\u001b[0m\u001b[0;34m.\u001b[0m\u001b[0maxis\u001b[0m\u001b[0;34m(\u001b[0m\u001b[0;34m'off'\u001b[0m\u001b[0;34m)\u001b[0m\u001b[0;34m\u001b[0m\u001b[0;34m\u001b[0m\u001b[0m\n\u001b[0;32m----> 2\u001b[0;31m \u001b[0mplt\u001b[0m\u001b[0;34m.\u001b[0m\u001b[0mimshow\u001b[0m\u001b[0;34m(\u001b[0m\u001b[0mdata_augmentation\u001b[0m\u001b[0;34m(\u001b[0m\u001b[0mX\u001b[0m\u001b[0;34m)\u001b[0m\u001b[0;34m[\u001b[0m\u001b[0;36m0\u001b[0m\u001b[0;34m]\u001b[0m\u001b[0;34m.\u001b[0m\u001b[0mnumpy\u001b[0m\u001b[0;34m(\u001b[0m\u001b[0;34m)\u001b[0m\u001b[0;34m.\u001b[0m\u001b[0mastype\u001b[0m\u001b[0;34m(\u001b[0m\u001b[0;34m\"uint8\"\u001b[0m\u001b[0;34m)\u001b[0m\u001b[0;34m,\u001b[0m \u001b[0mcmap\u001b[0m \u001b[0;34m=\u001b[0m \u001b[0;34m'gray'\u001b[0m\u001b[0;34m)\u001b[0m\u001b[0;34m\u001b[0m\u001b[0;34m\u001b[0m\u001b[0m\n\u001b[0m",
            "\u001b[0;32m/usr/local/lib/python3.7/dist-packages/matplotlib/pyplot.py\u001b[0m in \u001b[0;36mimshow\u001b[0;34m(X, cmap, norm, aspect, interpolation, alpha, vmin, vmax, origin, extent, shape, filternorm, filterrad, imlim, resample, url, data, **kwargs)\u001b[0m\n\u001b[1;32m   2649\u001b[0m         \u001b[0mfilternorm\u001b[0m\u001b[0;34m=\u001b[0m\u001b[0mfilternorm\u001b[0m\u001b[0;34m,\u001b[0m \u001b[0mfilterrad\u001b[0m\u001b[0;34m=\u001b[0m\u001b[0mfilterrad\u001b[0m\u001b[0;34m,\u001b[0m \u001b[0mimlim\u001b[0m\u001b[0;34m=\u001b[0m\u001b[0mimlim\u001b[0m\u001b[0;34m,\u001b[0m\u001b[0;34m\u001b[0m\u001b[0;34m\u001b[0m\u001b[0m\n\u001b[1;32m   2650\u001b[0m         resample=resample, url=url, **({\"data\": data} if data is not\n\u001b[0;32m-> 2651\u001b[0;31m         None else {}), **kwargs)\n\u001b[0m\u001b[1;32m   2652\u001b[0m     \u001b[0msci\u001b[0m\u001b[0;34m(\u001b[0m\u001b[0m__ret\u001b[0m\u001b[0;34m)\u001b[0m\u001b[0;34m\u001b[0m\u001b[0;34m\u001b[0m\u001b[0m\n\u001b[1;32m   2653\u001b[0m     \u001b[0;32mreturn\u001b[0m \u001b[0m__ret\u001b[0m\u001b[0;34m\u001b[0m\u001b[0;34m\u001b[0m\u001b[0m\n",
            "\u001b[0;32m/usr/local/lib/python3.7/dist-packages/matplotlib/__init__.py\u001b[0m in \u001b[0;36minner\u001b[0;34m(ax, data, *args, **kwargs)\u001b[0m\n\u001b[1;32m   1563\u001b[0m     \u001b[0;32mdef\u001b[0m \u001b[0minner\u001b[0m\u001b[0;34m(\u001b[0m\u001b[0max\u001b[0m\u001b[0;34m,\u001b[0m \u001b[0;34m*\u001b[0m\u001b[0margs\u001b[0m\u001b[0;34m,\u001b[0m \u001b[0mdata\u001b[0m\u001b[0;34m=\u001b[0m\u001b[0;32mNone\u001b[0m\u001b[0;34m,\u001b[0m \u001b[0;34m**\u001b[0m\u001b[0mkwargs\u001b[0m\u001b[0;34m)\u001b[0m\u001b[0;34m:\u001b[0m\u001b[0;34m\u001b[0m\u001b[0;34m\u001b[0m\u001b[0m\n\u001b[1;32m   1564\u001b[0m         \u001b[0;32mif\u001b[0m \u001b[0mdata\u001b[0m \u001b[0;32mis\u001b[0m \u001b[0;32mNone\u001b[0m\u001b[0;34m:\u001b[0m\u001b[0;34m\u001b[0m\u001b[0;34m\u001b[0m\u001b[0m\n\u001b[0;32m-> 1565\u001b[0;31m             \u001b[0;32mreturn\u001b[0m \u001b[0mfunc\u001b[0m\u001b[0;34m(\u001b[0m\u001b[0max\u001b[0m\u001b[0;34m,\u001b[0m \u001b[0;34m*\u001b[0m\u001b[0mmap\u001b[0m\u001b[0;34m(\u001b[0m\u001b[0msanitize_sequence\u001b[0m\u001b[0;34m,\u001b[0m \u001b[0margs\u001b[0m\u001b[0;34m)\u001b[0m\u001b[0;34m,\u001b[0m \u001b[0;34m**\u001b[0m\u001b[0mkwargs\u001b[0m\u001b[0;34m)\u001b[0m\u001b[0;34m\u001b[0m\u001b[0;34m\u001b[0m\u001b[0m\n\u001b[0m\u001b[1;32m   1566\u001b[0m \u001b[0;34m\u001b[0m\u001b[0m\n\u001b[1;32m   1567\u001b[0m         \u001b[0mbound\u001b[0m \u001b[0;34m=\u001b[0m \u001b[0mnew_sig\u001b[0m\u001b[0;34m.\u001b[0m\u001b[0mbind\u001b[0m\u001b[0;34m(\u001b[0m\u001b[0max\u001b[0m\u001b[0;34m,\u001b[0m \u001b[0;34m*\u001b[0m\u001b[0margs\u001b[0m\u001b[0;34m,\u001b[0m \u001b[0;34m**\u001b[0m\u001b[0mkwargs\u001b[0m\u001b[0;34m)\u001b[0m\u001b[0;34m\u001b[0m\u001b[0;34m\u001b[0m\u001b[0m\n",
            "\u001b[0;32m/usr/local/lib/python3.7/dist-packages/matplotlib/cbook/deprecation.py\u001b[0m in \u001b[0;36mwrapper\u001b[0;34m(*args, **kwargs)\u001b[0m\n\u001b[1;32m    356\u001b[0m                 \u001b[0;34mf\"%(removal)s.  If any parameter follows {name!r}, they \"\u001b[0m\u001b[0;34m\u001b[0m\u001b[0;34m\u001b[0m\u001b[0m\n\u001b[1;32m    357\u001b[0m                 f\"should be pass as keyword, not positionally.\")\n\u001b[0;32m--> 358\u001b[0;31m         \u001b[0;32mreturn\u001b[0m \u001b[0mfunc\u001b[0m\u001b[0;34m(\u001b[0m\u001b[0;34m*\u001b[0m\u001b[0margs\u001b[0m\u001b[0;34m,\u001b[0m \u001b[0;34m**\u001b[0m\u001b[0mkwargs\u001b[0m\u001b[0;34m)\u001b[0m\u001b[0;34m\u001b[0m\u001b[0;34m\u001b[0m\u001b[0m\n\u001b[0m\u001b[1;32m    359\u001b[0m \u001b[0;34m\u001b[0m\u001b[0m\n\u001b[1;32m    360\u001b[0m     \u001b[0;32mreturn\u001b[0m \u001b[0mwrapper\u001b[0m\u001b[0;34m\u001b[0m\u001b[0;34m\u001b[0m\u001b[0m\n",
            "\u001b[0;32m/usr/local/lib/python3.7/dist-packages/matplotlib/cbook/deprecation.py\u001b[0m in \u001b[0;36mwrapper\u001b[0;34m(*args, **kwargs)\u001b[0m\n\u001b[1;32m    356\u001b[0m                 \u001b[0;34mf\"%(removal)s.  If any parameter follows {name!r}, they \"\u001b[0m\u001b[0;34m\u001b[0m\u001b[0;34m\u001b[0m\u001b[0m\n\u001b[1;32m    357\u001b[0m                 f\"should be pass as keyword, not positionally.\")\n\u001b[0;32m--> 358\u001b[0;31m         \u001b[0;32mreturn\u001b[0m \u001b[0mfunc\u001b[0m\u001b[0;34m(\u001b[0m\u001b[0;34m*\u001b[0m\u001b[0margs\u001b[0m\u001b[0;34m,\u001b[0m \u001b[0;34m**\u001b[0m\u001b[0mkwargs\u001b[0m\u001b[0;34m)\u001b[0m\u001b[0;34m\u001b[0m\u001b[0;34m\u001b[0m\u001b[0m\n\u001b[0m\u001b[1;32m    359\u001b[0m \u001b[0;34m\u001b[0m\u001b[0m\n\u001b[1;32m    360\u001b[0m     \u001b[0;32mreturn\u001b[0m \u001b[0mwrapper\u001b[0m\u001b[0;34m\u001b[0m\u001b[0;34m\u001b[0m\u001b[0m\n",
            "\u001b[0;32m/usr/local/lib/python3.7/dist-packages/matplotlib/axes/_axes.py\u001b[0m in \u001b[0;36mimshow\u001b[0;34m(self, X, cmap, norm, aspect, interpolation, alpha, vmin, vmax, origin, extent, shape, filternorm, filterrad, imlim, resample, url, **kwargs)\u001b[0m\n\u001b[1;32m   5624\u001b[0m                               resample=resample, **kwargs)\n\u001b[1;32m   5625\u001b[0m \u001b[0;34m\u001b[0m\u001b[0m\n\u001b[0;32m-> 5626\u001b[0;31m         \u001b[0mim\u001b[0m\u001b[0;34m.\u001b[0m\u001b[0mset_data\u001b[0m\u001b[0;34m(\u001b[0m\u001b[0mX\u001b[0m\u001b[0;34m)\u001b[0m\u001b[0;34m\u001b[0m\u001b[0;34m\u001b[0m\u001b[0m\n\u001b[0m\u001b[1;32m   5627\u001b[0m         \u001b[0mim\u001b[0m\u001b[0;34m.\u001b[0m\u001b[0mset_alpha\u001b[0m\u001b[0;34m(\u001b[0m\u001b[0malpha\u001b[0m\u001b[0;34m)\u001b[0m\u001b[0;34m\u001b[0m\u001b[0;34m\u001b[0m\u001b[0m\n\u001b[1;32m   5628\u001b[0m         \u001b[0;32mif\u001b[0m \u001b[0mim\u001b[0m\u001b[0;34m.\u001b[0m\u001b[0mget_clip_path\u001b[0m\u001b[0;34m(\u001b[0m\u001b[0;34m)\u001b[0m \u001b[0;32mis\u001b[0m \u001b[0;32mNone\u001b[0m\u001b[0;34m:\u001b[0m\u001b[0;34m\u001b[0m\u001b[0;34m\u001b[0m\u001b[0m\n",
            "\u001b[0;32m/usr/local/lib/python3.7/dist-packages/matplotlib/image.py\u001b[0m in \u001b[0;36mset_data\u001b[0;34m(self, A)\u001b[0m\n\u001b[1;32m    697\u001b[0m                 or self._A.ndim == 3 and self._A.shape[-1] in [3, 4]):\n\u001b[1;32m    698\u001b[0m             raise TypeError(\"Invalid shape {} for image data\"\n\u001b[0;32m--> 699\u001b[0;31m                             .format(self._A.shape))\n\u001b[0m\u001b[1;32m    700\u001b[0m \u001b[0;34m\u001b[0m\u001b[0m\n\u001b[1;32m    701\u001b[0m         \u001b[0;32mif\u001b[0m \u001b[0mself\u001b[0m\u001b[0;34m.\u001b[0m\u001b[0m_A\u001b[0m\u001b[0;34m.\u001b[0m\u001b[0mndim\u001b[0m \u001b[0;34m==\u001b[0m \u001b[0;36m3\u001b[0m\u001b[0;34m:\u001b[0m\u001b[0;34m\u001b[0m\u001b[0;34m\u001b[0m\u001b[0m\n",
            "\u001b[0;31mTypeError\u001b[0m: Invalid shape (100, 76, 1) for image data"
          ]
        },
        {
          "output_type": "display_data",
          "data": {
            "text/plain": [
              "<Figure size 432x288 with 1 Axes>"
            ],
            "image/png": "[encoded data removed]"
          },
          "metadata": {
            "needs_background": "light"
          }
        }
      ],
      "source": [
        "plt.axis('off')\n",
        "plt.imshow(data_augmentation(X)[0].numpy().astype(\"uint8\"), cmap = 'gray')"
      ]
    },
    {
      "cell_type": "markdown",
      "metadata": {
        "id": "sYfGPkRlR_aM"
      },
      "source": [
        "## Train the model using data augmentation and a drop out layer"
      ]
    },
    {
      "cell_type": "code",
      "execution_count": null,
      "metadata": {
        "colab": {
          "base_uri": "https://localhost:8080/"
        },
        "id": "WXTv144LR_aM",
        "outputId": "0c291cca-87ed-4a56-89cf-e106cd7c3d74"
      },
      "outputs": [
        {
          "output_type": "stream",
          "name": "stdout",
          "text": [
            "Epoch 1/500\n"
          ]
        },
        {
          "output_type": "stream",
          "name": "stderr",
          "text": [
            "/usr/local/lib/python3.7/dist-packages/tensorflow/python/util/dispatch.py:1082: UserWarning: \"`sparse_categorical_crossentropy` received `from_logits=True`, but the `output` argument was produced by a sigmoid or softmax activation and thus does not represent logits. Was this intended?\"\n",
            "  return dispatch_target(*args, **kwargs)\n"
          ]
        },
        {
          "output_type": "stream",
          "name": "stdout",
          "text": [
            "8/8 [==============================] - 4s 400ms/step - loss: 1.7130 - accuracy: 0.1152\n",
            "Epoch 2/500\n",
            "8/8 [==============================] - 3s 401ms/step - loss: 1.5277 - accuracy: 0.2510\n",
            "Epoch 3/500\n",
            "8/8 [==============================] - 3s 403ms/step - loss: 1.4751 - accuracy: 0.3292\n",
            "Epoch 4/500\n",
            "8/8 [==============================] - 3s 401ms/step - loss: 1.4566 - accuracy: 0.3292\n",
            "Epoch 5/500\n",
            "8/8 [==============================] - 3s 402ms/step - loss: 1.4444 - accuracy: 0.3292\n",
            "Epoch 6/500\n",
            "8/8 [==============================] - 3s 400ms/step - loss: 1.4365 - accuracy: 0.3292\n",
            "Epoch 7/500\n",
            "8/8 [==============================] - 3s 404ms/step - loss: 1.4331 - accuracy: 0.3292\n",
            "Epoch 8/500\n",
            "8/8 [==============================] - 3s 402ms/step - loss: 1.4320 - accuracy: 0.3292\n",
            "Epoch 9/500\n",
            "8/8 [==============================] - 3s 405ms/step - loss: 1.4303 - accuracy: 0.3292\n",
            "Epoch 10/500\n",
            "8/8 [==============================] - 3s 403ms/step - loss: 1.4265 - accuracy: 0.3292\n",
            "Epoch 11/500\n",
            "8/8 [==============================] - 3s 404ms/step - loss: 1.4268 - accuracy: 0.3292\n",
            "Epoch 12/500\n",
            "8/8 [==============================] - 3s 405ms/step - loss: 1.4224 - accuracy: 0.3292\n",
            "Epoch 13/500\n",
            "8/8 [==============================] - 3s 407ms/step - loss: 1.4235 - accuracy: 0.3292\n",
            "Epoch 14/500\n",
            "8/8 [==============================] - 3s 405ms/step - loss: 1.4196 - accuracy: 0.3292\n",
            "Epoch 15/500\n",
            "8/8 [==============================] - 3s 405ms/step - loss: 1.4228 - accuracy: 0.3292\n",
            "Epoch 16/500\n",
            "8/8 [==============================] - 3s 406ms/step - loss: 1.4221 - accuracy: 0.3292\n",
            "Epoch 17/500\n",
            "8/8 [==============================] - 3s 406ms/step - loss: 1.4202 - accuracy: 0.3292\n",
            "Epoch 18/500\n",
            "8/8 [==============================] - 3s 408ms/step - loss: 1.4211 - accuracy: 0.3292\n",
            "Epoch 19/500\n",
            "8/8 [==============================] - 3s 410ms/step - loss: 1.4178 - accuracy: 0.3292\n",
            "Epoch 20/500\n",
            "8/8 [==============================] - 3s 407ms/step - loss: 1.4194 - accuracy: 0.3292\n",
            "Epoch 21/500\n",
            "8/8 [==============================] - 3s 408ms/step - loss: 1.4178 - accuracy: 0.3292\n",
            "Epoch 22/500\n",
            "8/8 [==============================] - 3s 407ms/step - loss: 1.4193 - accuracy: 0.3292\n",
            "Epoch 23/500\n",
            "8/8 [==============================] - 3s 408ms/step - loss: 1.4172 - accuracy: 0.3292\n",
            "Epoch 24/500\n",
            "8/8 [==============================] - 3s 410ms/step - loss: 1.4185 - accuracy: 0.3292\n",
            "Epoch 25/500\n",
            "8/8 [==============================] - 3s 411ms/step - loss: 1.4168 - accuracy: 0.3292\n",
            "Epoch 26/500\n",
            "8/8 [==============================] - 3s 409ms/step - loss: 1.4167 - accuracy: 0.3292\n",
            "Epoch 27/500\n",
            "8/8 [==============================] - 3s 411ms/step - loss: 1.4197 - accuracy: 0.3292\n",
            "Epoch 28/500\n",
            "8/8 [==============================] - 3s 410ms/step - loss: 1.4177 - accuracy: 0.3292\n",
            "Epoch 29/500\n",
            "8/8 [==============================] - 3s 410ms/step - loss: 1.4210 - accuracy: 0.3292\n",
            "Epoch 30/500\n",
            "8/8 [==============================] - 3s 413ms/step - loss: 1.4175 - accuracy: 0.3292\n",
            "Epoch 31/500\n",
            "8/8 [==============================] - 3s 413ms/step - loss: 1.4150 - accuracy: 0.3292\n",
            "Epoch 32/500\n",
            "8/8 [==============================] - 3s 412ms/step - loss: 1.4162 - accuracy: 0.3292\n",
            "Epoch 33/500\n",
            "8/8 [==============================] - 3s 412ms/step - loss: 1.4194 - accuracy: 0.3292\n",
            "Epoch 34/500\n",
            "8/8 [==============================] - 3s 412ms/step - loss: 1.4153 - accuracy: 0.3292\n",
            "Epoch 35/500\n",
            "8/8 [==============================] - 3s 414ms/step - loss: 1.4170 - accuracy: 0.3292\n",
            "Epoch 36/500\n",
            "8/8 [==============================] - 3s 411ms/step - loss: 1.4165 - accuracy: 0.3292\n",
            "Epoch 37/500\n",
            "8/8 [==============================] - 3s 412ms/step - loss: 1.4176 - accuracy: 0.3292\n",
            "Epoch 38/500\n",
            "8/8 [==============================] - 3s 411ms/step - loss: 1.4185 - accuracy: 0.3292\n",
            "Epoch 39/500\n",
            "8/8 [==============================] - 3s 413ms/step - loss: 1.4175 - accuracy: 0.3292\n",
            "Epoch 40/500\n",
            "8/8 [==============================] - 3s 415ms/step - loss: 1.4183 - accuracy: 0.3292\n",
            "Epoch 41/500\n",
            "8/8 [==============================] - 3s 415ms/step - loss: 1.4173 - accuracy: 0.3292\n",
            "Epoch 42/500\n",
            "8/8 [==============================] - 3s 414ms/step - loss: 1.4152 - accuracy: 0.3292\n",
            "Epoch 43/500\n",
            "8/8 [==============================] - 3s 415ms/step - loss: 1.4163 - accuracy: 0.3292\n",
            "Epoch 44/500\n",
            "8/8 [==============================] - 3s 415ms/step - loss: 1.4167 - accuracy: 0.3292\n",
            "Epoch 45/500\n",
            "8/8 [==============================] - 3s 417ms/step - loss: 1.4160 - accuracy: 0.3292\n",
            "Epoch 46/500\n",
            "8/8 [==============================] - 3s 418ms/step - loss: 1.4186 - accuracy: 0.3292\n",
            "Epoch 47/500\n",
            "8/8 [==============================] - 3s 416ms/step - loss: 1.4172 - accuracy: 0.3292\n",
            "Epoch 48/500\n",
            "8/8 [==============================] - 3s 416ms/step - loss: 1.4157 - accuracy: 0.3292\n",
            "Epoch 49/500\n",
            "8/8 [==============================] - 3s 417ms/step - loss: 1.4152 - accuracy: 0.3292\n",
            "Epoch 50/500\n",
            "8/8 [==============================] - 3s 418ms/step - loss: 1.4173 - accuracy: 0.3292\n",
            "Epoch 51/500\n",
            "8/8 [==============================] - 3s 416ms/step - loss: 1.4165 - accuracy: 0.3292\n",
            "Epoch 52/500\n",
            "8/8 [==============================] - 3s 417ms/step - loss: 1.4158 - accuracy: 0.3292\n",
            "Epoch 53/500\n",
            "8/8 [==============================] - 3s 418ms/step - loss: 1.4198 - accuracy: 0.3292\n",
            "Epoch 54/500\n",
            "8/8 [==============================] - 3s 417ms/step - loss: 1.4166 - accuracy: 0.3292\n",
            "Epoch 55/500\n",
            "8/8 [==============================] - 3s 419ms/step - loss: 1.4181 - accuracy: 0.3292\n",
            "Epoch 56/500\n",
            "8/8 [==============================] - 3s 419ms/step - loss: 1.4170 - accuracy: 0.3292\n",
            "Epoch 57/500\n",
            "8/8 [==============================] - 3s 418ms/step - loss: 1.4165 - accuracy: 0.3292\n",
            "Epoch 58/500\n",
            "8/8 [==============================] - 3s 418ms/step - loss: 1.4163 - accuracy: 0.3292\n",
            "Epoch 59/500\n",
            "8/8 [==============================] - 3s 419ms/step - loss: 1.4172 - accuracy: 0.3292\n",
            "Epoch 60/500\n",
            "8/8 [==============================] - 3s 420ms/step - loss: 1.4153 - accuracy: 0.3292\n",
            "Epoch 61/500\n",
            "8/8 [==============================] - 3s 420ms/step - loss: 1.4167 - accuracy: 0.3292\n",
            "Epoch 62/500\n",
            "8/8 [==============================] - 3s 419ms/step - loss: 1.4158 - accuracy: 0.3292\n",
            "Epoch 63/500\n",
            "8/8 [==============================] - 3s 420ms/step - loss: 1.4175 - accuracy: 0.3292\n",
            "Epoch 64/500\n",
            "8/8 [==============================] - 3s 420ms/step - loss: 1.4172 - accuracy: 0.3292\n",
            "Epoch 65/500\n",
            "8/8 [==============================] - 3s 419ms/step - loss: 1.4169 - accuracy: 0.3292\n",
            "Epoch 66/500\n",
            "8/8 [==============================] - 3s 418ms/step - loss: 1.4160 - accuracy: 0.3292\n",
            "Epoch 67/500\n",
            "8/8 [==============================] - 3s 420ms/step - loss: 1.4148 - accuracy: 0.3292\n",
            "Epoch 68/500\n",
            "8/8 [==============================] - 3s 420ms/step - loss: 1.4184 - accuracy: 0.3292\n",
            "Epoch 69/500\n",
            "8/8 [==============================] - 3s 419ms/step - loss: 1.4179 - accuracy: 0.3292\n",
            "Epoch 70/500\n",
            "8/8 [==============================] - 3s 420ms/step - loss: 1.4167 - accuracy: 0.3292\n",
            "Epoch 71/500\n",
            "8/8 [==============================] - 3s 419ms/step - loss: 1.4163 - accuracy: 0.3292\n",
            "Epoch 72/500\n",
            "8/8 [==============================] - 3s 419ms/step - loss: 1.4165 - accuracy: 0.3292\n",
            "Epoch 73/500\n",
            "8/8 [==============================] - 3s 420ms/step - loss: 1.4157 - accuracy: 0.3292\n",
            "Epoch 74/500\n",
            "8/8 [==============================] - 3s 421ms/step - loss: 1.4158 - accuracy: 0.3292\n",
            "Epoch 75/500\n",
            "8/8 [==============================] - 3s 420ms/step - loss: 1.4172 - accuracy: 0.3292\n",
            "Epoch 76/500\n",
            "8/8 [==============================] - 3s 422ms/step - loss: 1.4171 - accuracy: 0.3292\n",
            "Epoch 77/500\n",
            "8/8 [==============================] - 3s 423ms/step - loss: 1.4169 - accuracy: 0.3292\n",
            "Epoch 78/500\n",
            "8/8 [==============================] - 3s 422ms/step - loss: 1.4167 - accuracy: 0.3292\n",
            "Epoch 79/500\n",
            "8/8 [==============================] - 3s 422ms/step - loss: 1.4164 - accuracy: 0.3292\n",
            "Epoch 80/500\n",
            "8/8 [==============================] - 3s 420ms/step - loss: 1.4150 - accuracy: 0.3292\n",
            "Epoch 81/500\n",
            "8/8 [==============================] - 3s 422ms/step - loss: 1.4163 - accuracy: 0.3292\n",
            "Epoch 82/500\n",
            "8/8 [==============================] - 3s 423ms/step - loss: 1.4161 - accuracy: 0.3292\n",
            "Epoch 83/500\n",
            "8/8 [==============================] - 3s 424ms/step - loss: 1.4180 - accuracy: 0.3292\n",
            "Epoch 84/500\n",
            "8/8 [==============================] - 3s 421ms/step - loss: 1.4168 - accuracy: 0.3292\n",
            "Epoch 85/500\n",
            "8/8 [==============================] - 3s 424ms/step - loss: 1.4169 - accuracy: 0.3292\n",
            "Epoch 86/500\n",
            "8/8 [==============================] - 3s 424ms/step - loss: 1.4155 - accuracy: 0.3292\n",
            "Epoch 87/500\n",
            "8/8 [==============================] - 3s 421ms/step - loss: 1.4165 - accuracy: 0.3292\n",
            "Epoch 88/500\n",
            "8/8 [==============================] - 3s 423ms/step - loss: 1.4153 - accuracy: 0.3292\n",
            "Epoch 89/500\n",
            "8/8 [==============================] - 3s 419ms/step - loss: 1.4148 - accuracy: 0.3292\n",
            "Epoch 90/500\n",
            "8/8 [==============================] - 3s 420ms/step - loss: 1.4160 - accuracy: 0.3292\n",
            "Epoch 91/500\n",
            "8/8 [==============================] - 3s 422ms/step - loss: 1.4179 - accuracy: 0.3292\n",
            "Epoch 92/500\n",
            "8/8 [==============================] - 3s 422ms/step - loss: 1.4154 - accuracy: 0.3292\n",
            "Epoch 93/500\n",
            "8/8 [==============================] - 3s 421ms/step - loss: 1.4164 - accuracy: 0.3292\n",
            "Epoch 94/500\n",
            "8/8 [==============================] - 3s 421ms/step - loss: 1.4185 - accuracy: 0.3292\n",
            "Epoch 95/500\n",
            "8/8 [==============================] - 3s 422ms/step - loss: 1.4164 - accuracy: 0.3292\n",
            "Epoch 96/500\n",
            "8/8 [==============================] - 3s 421ms/step - loss: 1.4157 - accuracy: 0.3292\n",
            "Epoch 97/500\n",
            "8/8 [==============================] - 3s 421ms/step - loss: 1.4158 - accuracy: 0.3292\n",
            "Epoch 98/500\n",
            "8/8 [==============================] - 3s 421ms/step - loss: 1.4149 - accuracy: 0.3292\n",
            "Epoch 99/500\n",
            "8/8 [==============================] - 3s 418ms/step - loss: 1.4171 - accuracy: 0.3292\n",
            "Epoch 100/500\n",
            "8/8 [==============================] - 3s 422ms/step - loss: 1.4176 - accuracy: 0.3292\n",
            "Epoch 101/500\n",
            "8/8 [==============================] - 3s 421ms/step - loss: 1.4159 - accuracy: 0.3292\n",
            "Epoch 102/500\n",
            "8/8 [==============================] - 3s 421ms/step - loss: 1.4153 - accuracy: 0.3292\n",
            "Epoch 103/500\n",
            "8/8 [==============================] - 3s 420ms/step - loss: 1.4183 - accuracy: 0.3292\n",
            "Epoch 104/500\n",
            "8/8 [==============================] - 3s 422ms/step - loss: 1.4169 - accuracy: 0.3292\n",
            "Epoch 105/500\n",
            "8/8 [==============================] - 3s 423ms/step - loss: 1.4193 - accuracy: 0.3292\n",
            "Epoch 106/500\n",
            "8/8 [==============================] - 3s 422ms/step - loss: 1.4165 - accuracy: 0.3292\n",
            "Epoch 107/500\n",
            "8/8 [==============================] - 3s 423ms/step - loss: 1.4153 - accuracy: 0.3292\n",
            "Epoch 108/500\n",
            "8/8 [==============================] - 3s 422ms/step - loss: 1.4157 - accuracy: 0.3292\n",
            "Epoch 109/500\n",
            "8/8 [==============================] - 3s 422ms/step - loss: 1.4163 - accuracy: 0.3292\n",
            "Epoch 110/500\n",
            "8/8 [==============================] - 3s 422ms/step - loss: 1.4166 - accuracy: 0.3292\n",
            "Epoch 111/500\n",
            "8/8 [==============================] - 3s 422ms/step - loss: 1.4167 - accuracy: 0.3292\n",
            "Epoch 112/500\n",
            "8/8 [==============================] - 3s 422ms/step - loss: 1.4160 - accuracy: 0.3292\n",
            "Epoch 113/500\n",
            "8/8 [==============================] - 3s 420ms/step - loss: 1.4156 - accuracy: 0.3292\n",
            "Epoch 114/500\n",
            "8/8 [==============================] - 3s 422ms/step - loss: 1.4180 - accuracy: 0.3292\n",
            "Epoch 115/500\n",
            "8/8 [==============================] - 3s 423ms/step - loss: 1.4160 - accuracy: 0.3292\n",
            "Epoch 116/500\n",
            "8/8 [==============================] - 3s 424ms/step - loss: 1.4153 - accuracy: 0.3292\n",
            "Epoch 117/500\n",
            "8/8 [==============================] - 3s 422ms/step - loss: 1.4168 - accuracy: 0.3292\n",
            "Epoch 118/500\n",
            "8/8 [==============================] - 3s 423ms/step - loss: 1.4161 - accuracy: 0.3292\n",
            "Epoch 119/500\n",
            "8/8 [==============================] - 3s 421ms/step - loss: 1.4180 - accuracy: 0.3292\n",
            "Epoch 120/500\n",
            "8/8 [==============================] - 3s 421ms/step - loss: 1.4152 - accuracy: 0.3292\n",
            "Epoch 121/500\n",
            "8/8 [==============================] - 3s 422ms/step - loss: 1.4157 - accuracy: 0.3292\n",
            "Epoch 122/500\n",
            "8/8 [==============================] - 3s 420ms/step - loss: 1.4179 - accuracy: 0.3292\n",
            "Epoch 123/500\n",
            "8/8 [==============================] - 3s 422ms/step - loss: 1.4166 - accuracy: 0.3292\n",
            "Epoch 124/500\n",
            "8/8 [==============================] - 3s 421ms/step - loss: 1.4163 - accuracy: 0.3292\n",
            "Epoch 125/500\n",
            "8/8 [==============================] - 3s 421ms/step - loss: 1.4157 - accuracy: 0.3292\n",
            "Epoch 126/500\n",
            "8/8 [==============================] - 3s 423ms/step - loss: 1.4171 - accuracy: 0.3292\n",
            "Epoch 127/500\n",
            "8/8 [==============================] - 3s 422ms/step - loss: 1.4169 - accuracy: 0.3292\n",
            "Epoch 128/500\n",
            "8/8 [==============================] - 3s 423ms/step - loss: 1.4158 - accuracy: 0.3292\n",
            "Epoch 129/500\n",
            "8/8 [==============================] - 3s 421ms/step - loss: 1.4186 - accuracy: 0.3292\n",
            "Epoch 130/500\n",
            "8/8 [==============================] - 3s 424ms/step - loss: 1.4159 - accuracy: 0.3292\n",
            "Epoch 131/500\n",
            "8/8 [==============================] - 3s 423ms/step - loss: 1.4176 - accuracy: 0.3292\n",
            "Epoch 132/500\n",
            "8/8 [==============================] - 3s 422ms/step - loss: 1.4159 - accuracy: 0.3292\n",
            "Epoch 133/500\n",
            "8/8 [==============================] - 3s 424ms/step - loss: 1.4164 - accuracy: 0.3292\n",
            "Epoch 134/500\n",
            "8/8 [==============================] - 3s 421ms/step - loss: 1.4161 - accuracy: 0.3292\n",
            "Epoch 135/500\n",
            "8/8 [==============================] - 3s 422ms/step - loss: 1.4166 - accuracy: 0.3292\n",
            "Epoch 136/500\n",
            "8/8 [==============================] - 3s 421ms/step - loss: 1.4178 - accuracy: 0.3292\n",
            "Epoch 137/500\n",
            "8/8 [==============================] - 3s 423ms/step - loss: 1.4176 - accuracy: 0.3292\n",
            "Epoch 138/500\n",
            "8/8 [==============================] - 3s 422ms/step - loss: 1.4154 - accuracy: 0.3292\n",
            "Epoch 139/500\n",
            "8/8 [==============================] - 3s 422ms/step - loss: 1.4166 - accuracy: 0.3292\n",
            "Epoch 140/500\n",
            "8/8 [==============================] - 3s 423ms/step - loss: 1.4169 - accuracy: 0.3292\n",
            "Epoch 141/500\n",
            "8/8 [==============================] - 3s 421ms/step - loss: 1.4154 - accuracy: 0.3292\n",
            "Epoch 142/500\n",
            "8/8 [==============================] - 3s 423ms/step - loss: 1.4186 - accuracy: 0.3292\n",
            "Epoch 143/500\n",
            "8/8 [==============================] - 3s 421ms/step - loss: 1.4156 - accuracy: 0.3292\n",
            "Epoch 144/500\n",
            "8/8 [==============================] - 3s 420ms/step - loss: 1.4159 - accuracy: 0.3292\n",
            "Epoch 145/500\n",
            "8/8 [==============================] - 3s 423ms/step - loss: 1.4156 - accuracy: 0.3292\n",
            "Epoch 146/500\n",
            "8/8 [==============================] - 3s 423ms/step - loss: 1.4157 - accuracy: 0.3292\n",
            "Epoch 147/500\n",
            "8/8 [==============================] - 3s 423ms/step - loss: 1.4149 - accuracy: 0.3292\n",
            "Epoch 148/500\n",
            "8/8 [==============================] - 3s 422ms/step - loss: 1.4179 - accuracy: 0.3292\n",
            "Epoch 149/500\n",
            "8/8 [==============================] - 3s 422ms/step - loss: 1.4156 - accuracy: 0.3292\n",
            "Epoch 150/500\n",
            "8/8 [==============================] - 3s 422ms/step - loss: 1.4169 - accuracy: 0.3292\n",
            "Epoch 151/500\n",
            "8/8 [==============================] - 3s 421ms/step - loss: 1.4161 - accuracy: 0.3292\n",
            "Epoch 152/500\n",
            "8/8 [==============================] - 3s 421ms/step - loss: 1.4174 - accuracy: 0.3292\n",
            "Epoch 153/500\n",
            "8/8 [==============================] - 3s 421ms/step - loss: 1.4171 - accuracy: 0.3292\n",
            "Epoch 154/500\n",
            "8/8 [==============================] - 3s 422ms/step - loss: 1.4160 - accuracy: 0.3292\n",
            "Epoch 155/500\n",
            "8/8 [==============================] - 3s 422ms/step - loss: 1.4163 - accuracy: 0.3292\n",
            "Epoch 156/500\n",
            "8/8 [==============================] - 3s 421ms/step - loss: 1.4167 - accuracy: 0.3292\n",
            "Epoch 157/500\n",
            "8/8 [==============================] - 3s 422ms/step - loss: 1.4185 - accuracy: 0.3292\n",
            "Epoch 158/500\n",
            "8/8 [==============================] - 3s 423ms/step - loss: 1.4150 - accuracy: 0.3292\n",
            "Epoch 159/500\n",
            "8/8 [==============================] - 3s 422ms/step - loss: 1.4170 - accuracy: 0.3292\n",
            "Epoch 160/500\n",
            "8/8 [==============================] - 3s 422ms/step - loss: 1.4154 - accuracy: 0.3292\n",
            "Epoch 161/500\n",
            "8/8 [==============================] - 3s 422ms/step - loss: 1.4177 - accuracy: 0.3292\n",
            "Epoch 162/500\n",
            "8/8 [==============================] - 3s 420ms/step - loss: 1.4157 - accuracy: 0.3292\n",
            "Epoch 163/500\n",
            "8/8 [==============================] - 3s 423ms/step - loss: 1.4166 - accuracy: 0.3292\n",
            "Epoch 164/500\n",
            "8/8 [==============================] - 3s 423ms/step - loss: 1.4154 - accuracy: 0.3292\n",
            "Epoch 165/500\n",
            "8/8 [==============================] - 3s 423ms/step - loss: 1.4166 - accuracy: 0.3292\n",
            "Epoch 166/500\n",
            "8/8 [==============================] - 3s 422ms/step - loss: 1.4168 - accuracy: 0.3292\n",
            "Epoch 167/500\n",
            "8/8 [==============================] - 3s 418ms/step - loss: 1.4153 - accuracy: 0.3292\n",
            "Epoch 168/500\n",
            "8/8 [==============================] - 3s 423ms/step - loss: 1.4180 - accuracy: 0.3292\n",
            "Epoch 169/500\n",
            "8/8 [==============================] - 3s 421ms/step - loss: 1.4167 - accuracy: 0.3292\n",
            "Epoch 170/500\n",
            "8/8 [==============================] - 3s 424ms/step - loss: 1.4166 - accuracy: 0.3292\n",
            "Epoch 171/500\n",
            "8/8 [==============================] - 3s 421ms/step - loss: 1.4169 - accuracy: 0.3292\n",
            "Epoch 172/500\n",
            "8/8 [==============================] - 3s 419ms/step - loss: 1.4162 - accuracy: 0.3292\n",
            "Epoch 173/500\n",
            "8/8 [==============================] - 3s 420ms/step - loss: 1.4159 - accuracy: 0.3292\n",
            "Epoch 174/500\n",
            "8/8 [==============================] - 3s 423ms/step - loss: 1.4169 - accuracy: 0.3292\n",
            "Epoch 175/500\n",
            "8/8 [==============================] - 3s 425ms/step - loss: 1.4162 - accuracy: 0.3292\n",
            "Epoch 176/500\n",
            "8/8 [==============================] - 3s 424ms/step - loss: 1.4159 - accuracy: 0.3292\n",
            "Epoch 177/500\n",
            "8/8 [==============================] - 3s 423ms/step - loss: 1.4169 - accuracy: 0.3292\n",
            "Epoch 178/500\n",
            "8/8 [==============================] - 3s 422ms/step - loss: 1.4166 - accuracy: 0.3292\n",
            "Epoch 179/500\n",
            "8/8 [==============================] - 3s 422ms/step - loss: 1.4154 - accuracy: 0.3292\n",
            "Epoch 180/500\n",
            "8/8 [==============================] - 3s 421ms/step - loss: 1.4163 - accuracy: 0.3292\n",
            "Epoch 181/500\n",
            "8/8 [==============================] - 3s 422ms/step - loss: 1.4168 - accuracy: 0.3292\n",
            "Epoch 182/500\n",
            "8/8 [==============================] - 3s 426ms/step - loss: 1.4150 - accuracy: 0.3292\n",
            "Epoch 183/500\n",
            "8/8 [==============================] - 3s 421ms/step - loss: 1.4180 - accuracy: 0.3292\n",
            "Epoch 184/500\n",
            "8/8 [==============================] - 3s 422ms/step - loss: 1.4153 - accuracy: 0.3292\n",
            "Epoch 185/500\n",
            "8/8 [==============================] - 3s 423ms/step - loss: 1.4171 - accuracy: 0.3292\n",
            "Epoch 186/500\n",
            "8/8 [==============================] - 3s 422ms/step - loss: 1.4169 - accuracy: 0.3292\n",
            "Epoch 187/500\n",
            "8/8 [==============================] - 3s 424ms/step - loss: 1.4178 - accuracy: 0.3292\n",
            "Epoch 188/500\n",
            "8/8 [==============================] - 3s 425ms/step - loss: 1.4174 - accuracy: 0.3292\n",
            "Epoch 189/500\n",
            "8/8 [==============================] - 3s 421ms/step - loss: 1.4171 - accuracy: 0.3292\n",
            "Epoch 190/500\n",
            "8/8 [==============================] - 3s 422ms/step - loss: 1.4176 - accuracy: 0.3292\n",
            "Epoch 191/500\n",
            "8/8 [==============================] - 3s 424ms/step - loss: 1.4156 - accuracy: 0.3292\n",
            "Epoch 192/500\n",
            "8/8 [==============================] - 3s 423ms/step - loss: 1.4165 - accuracy: 0.3292\n",
            "Epoch 193/500\n",
            "8/8 [==============================] - 3s 421ms/step - loss: 1.4151 - accuracy: 0.3292\n",
            "Epoch 194/500\n",
            "8/8 [==============================] - 3s 422ms/step - loss: 1.4161 - accuracy: 0.3292\n",
            "Epoch 195/500\n",
            "8/8 [==============================] - 3s 421ms/step - loss: 1.4167 - accuracy: 0.3292\n",
            "Epoch 196/500\n",
            "8/8 [==============================] - 3s 418ms/step - loss: 1.4172 - accuracy: 0.3292\n",
            "Epoch 197/500\n",
            "8/8 [==============================] - 3s 423ms/step - loss: 1.4159 - accuracy: 0.3292\n",
            "Epoch 198/500\n",
            "8/8 [==============================] - 3s 422ms/step - loss: 1.4165 - accuracy: 0.3292\n",
            "Epoch 199/500\n",
            "8/8 [==============================] - 3s 423ms/step - loss: 1.4166 - accuracy: 0.3292\n",
            "Epoch 200/500\n",
            "8/8 [==============================] - 3s 422ms/step - loss: 1.4180 - accuracy: 0.3292\n",
            "Epoch 201/500\n",
            "8/8 [==============================] - 3s 422ms/step - loss: 1.4173 - accuracy: 0.3292\n",
            "Epoch 202/500\n",
            "8/8 [==============================] - 3s 423ms/step - loss: 1.4166 - accuracy: 0.3292\n",
            "Epoch 203/500\n",
            "8/8 [==============================] - 3s 421ms/step - loss: 1.4160 - accuracy: 0.3292\n",
            "Epoch 204/500\n",
            "8/8 [==============================] - 3s 423ms/step - loss: 1.4158 - accuracy: 0.3292\n",
            "Epoch 205/500\n",
            "8/8 [==============================] - 3s 423ms/step - loss: 1.4173 - accuracy: 0.3292\n",
            "Epoch 206/500\n",
            "8/8 [==============================] - 3s 421ms/step - loss: 1.4165 - accuracy: 0.3292\n",
            "Epoch 207/500\n",
            "8/8 [==============================] - 3s 423ms/step - loss: 1.4168 - accuracy: 0.3292\n",
            "Epoch 208/500\n",
            "8/8 [==============================] - 3s 422ms/step - loss: 1.4181 - accuracy: 0.3292\n",
            "Epoch 209/500\n",
            "8/8 [==============================] - 3s 421ms/step - loss: 1.4171 - accuracy: 0.3292\n",
            "Epoch 210/500\n",
            "8/8 [==============================] - 3s 422ms/step - loss: 1.4159 - accuracy: 0.3292\n",
            "Epoch 211/500\n",
            "8/8 [==============================] - 3s 423ms/step - loss: 1.4155 - accuracy: 0.3292\n",
            "Epoch 212/500\n",
            "8/8 [==============================] - 3s 422ms/step - loss: 1.4166 - accuracy: 0.3292\n",
            "Epoch 213/500\n",
            "8/8 [==============================] - 3s 422ms/step - loss: 1.4167 - accuracy: 0.3292\n",
            "Epoch 214/500\n",
            "8/8 [==============================] - 3s 423ms/step - loss: 1.4164 - accuracy: 0.3292\n",
            "Epoch 215/500\n",
            "8/8 [==============================] - 3s 425ms/step - loss: 1.4178 - accuracy: 0.3292\n",
            "Epoch 216/500\n",
            "8/8 [==============================] - 3s 424ms/step - loss: 1.4177 - accuracy: 0.3292\n",
            "Epoch 217/500\n",
            "8/8 [==============================] - 3s 422ms/step - loss: 1.4166 - accuracy: 0.3292\n",
            "Epoch 218/500\n",
            "8/8 [==============================] - 3s 421ms/step - loss: 1.4162 - accuracy: 0.3292\n",
            "Epoch 219/500\n",
            "8/8 [==============================] - 3s 421ms/step - loss: 1.4180 - accuracy: 0.3292\n",
            "Epoch 220/500\n",
            "8/8 [==============================] - 3s 420ms/step - loss: 1.4168 - accuracy: 0.3292\n",
            "Epoch 221/500\n",
            "8/8 [==============================] - 3s 421ms/step - loss: 1.4165 - accuracy: 0.3292\n",
            "Epoch 222/500\n",
            "8/8 [==============================] - 3s 422ms/step - loss: 1.4166 - accuracy: 0.3292\n",
            "Epoch 223/500\n",
            "8/8 [==============================] - 3s 421ms/step - loss: 1.4179 - accuracy: 0.3292\n",
            "Epoch 224/500\n",
            "8/8 [==============================] - 3s 420ms/step - loss: 1.4155 - accuracy: 0.3292\n",
            "Epoch 225/500\n",
            "8/8 [==============================] - 3s 420ms/step - loss: 1.4167 - accuracy: 0.3292\n",
            "Epoch 226/500\n",
            "8/8 [==============================] - 3s 421ms/step - loss: 1.4164 - accuracy: 0.3292\n",
            "Epoch 227/500\n",
            "8/8 [==============================] - 3s 423ms/step - loss: 1.4168 - accuracy: 0.3292\n",
            "Epoch 228/500\n",
            "8/8 [==============================] - 3s 423ms/step - loss: 1.4150 - accuracy: 0.3292\n",
            "Epoch 229/500\n",
            "8/8 [==============================] - 3s 422ms/step - loss: 1.4170 - accuracy: 0.3292\n",
            "Epoch 230/500\n",
            "8/8 [==============================] - 3s 422ms/step - loss: 1.4155 - accuracy: 0.3292\n",
            "Epoch 231/500\n",
            "8/8 [==============================] - 3s 420ms/step - loss: 1.4169 - accuracy: 0.3292\n",
            "Epoch 232/500\n",
            "8/8 [==============================] - 3s 423ms/step - loss: 1.4180 - accuracy: 0.3292\n",
            "Epoch 233/500\n",
            "8/8 [==============================] - 3s 422ms/step - loss: 1.4161 - accuracy: 0.3292\n",
            "Epoch 234/500\n",
            "8/8 [==============================] - 3s 424ms/step - loss: 1.4171 - accuracy: 0.3292\n",
            "Epoch 235/500\n",
            "8/8 [==============================] - 3s 422ms/step - loss: 1.4178 - accuracy: 0.3292\n",
            "Epoch 236/500\n",
            "8/8 [==============================] - 3s 422ms/step - loss: 1.4168 - accuracy: 0.3292\n",
            "Epoch 237/500\n",
            "8/8 [==============================] - 3s 424ms/step - loss: 1.4167 - accuracy: 0.3292\n",
            "Epoch 238/500\n",
            "8/8 [==============================] - 3s 420ms/step - loss: 1.4176 - accuracy: 0.3292\n",
            "Epoch 239/500\n",
            "8/8 [==============================] - 3s 423ms/step - loss: 1.4159 - accuracy: 0.3292\n",
            "Epoch 240/500\n",
            "8/8 [==============================] - 3s 421ms/step - loss: 1.4165 - accuracy: 0.3292\n",
            "Epoch 241/500\n",
            "8/8 [==============================] - 3s 422ms/step - loss: 1.4161 - accuracy: 0.3292\n",
            "Epoch 242/500\n",
            "8/8 [==============================] - 3s 424ms/step - loss: 1.4162 - accuracy: 0.3292\n",
            "Epoch 243/500\n",
            "8/8 [==============================] - 3s 423ms/step - loss: 1.4165 - accuracy: 0.3292\n",
            "Epoch 244/500\n",
            "8/8 [==============================] - 3s 423ms/step - loss: 1.4153 - accuracy: 0.3292\n",
            "Epoch 245/500\n",
            "8/8 [==============================] - 3s 422ms/step - loss: 1.4159 - accuracy: 0.3292\n",
            "Epoch 246/500\n",
            "8/8 [==============================] - 3s 420ms/step - loss: 1.4157 - accuracy: 0.3292\n",
            "Epoch 247/500\n",
            "8/8 [==============================] - 3s 422ms/step - loss: 1.4168 - accuracy: 0.3292\n",
            "Epoch 248/500\n",
            "8/8 [==============================] - 3s 423ms/step - loss: 1.4164 - accuracy: 0.3292\n",
            "Epoch 249/500\n",
            "8/8 [==============================] - 3s 424ms/step - loss: 1.4162 - accuracy: 0.3292\n",
            "Epoch 250/500\n",
            "8/8 [==============================] - 3s 423ms/step - loss: 1.4155 - accuracy: 0.3292\n",
            "Epoch 251/500\n",
            "8/8 [==============================] - 3s 423ms/step - loss: 1.4161 - accuracy: 0.3292\n",
            "Epoch 252/500\n",
            "8/8 [==============================] - 3s 422ms/step - loss: 1.4185 - accuracy: 0.3292\n",
            "Epoch 253/500\n",
            "8/8 [==============================] - 3s 423ms/step - loss: 1.4159 - accuracy: 0.3292\n",
            "Epoch 254/500\n",
            "8/8 [==============================] - 3s 424ms/step - loss: 1.4160 - accuracy: 0.3292\n",
            "Epoch 255/500\n",
            "8/8 [==============================] - 3s 421ms/step - loss: 1.4174 - accuracy: 0.3292\n",
            "Epoch 256/500\n",
            "8/8 [==============================] - 3s 422ms/step - loss: 1.4182 - accuracy: 0.3292\n",
            "Epoch 257/500\n",
            "8/8 [==============================] - 3s 423ms/step - loss: 1.4189 - accuracy: 0.3292\n",
            "Epoch 258/500\n",
            "8/8 [==============================] - 3s 420ms/step - loss: 1.4167 - accuracy: 0.3292\n",
            "Epoch 259/500\n",
            "8/8 [==============================] - 3s 423ms/step - loss: 1.4160 - accuracy: 0.3292\n",
            "Epoch 260/500\n",
            "8/8 [==============================] - 3s 423ms/step - loss: 1.4156 - accuracy: 0.3292\n",
            "Epoch 261/500\n",
            "8/8 [==============================] - 3s 423ms/step - loss: 1.4161 - accuracy: 0.3292\n",
            "Epoch 262/500\n",
            "8/8 [==============================] - 3s 422ms/step - loss: 1.4171 - accuracy: 0.3292\n",
            "Epoch 263/500\n",
            "8/8 [==============================] - 3s 421ms/step - loss: 1.4177 - accuracy: 0.3292\n",
            "Epoch 264/500\n",
            "8/8 [==============================] - 3s 422ms/step - loss: 1.4188 - accuracy: 0.3292\n",
            "Epoch 265/500\n",
            "8/8 [==============================] - 3s 423ms/step - loss: 1.4155 - accuracy: 0.3292\n",
            "Epoch 266/500\n",
            "8/8 [==============================] - 3s 423ms/step - loss: 1.4158 - accuracy: 0.3292\n",
            "Epoch 267/500\n",
            "8/8 [==============================] - 3s 421ms/step - loss: 1.4165 - accuracy: 0.3292\n",
            "Epoch 268/500\n",
            "8/8 [==============================] - 3s 421ms/step - loss: 1.4160 - accuracy: 0.3292\n",
            "Epoch 269/500\n",
            "8/8 [==============================] - 3s 419ms/step - loss: 1.4164 - accuracy: 0.3292\n",
            "Epoch 270/500\n",
            "8/8 [==============================] - 3s 425ms/step - loss: 1.4180 - accuracy: 0.3292\n",
            "Epoch 271/500\n",
            "8/8 [==============================] - 3s 420ms/step - loss: 1.4177 - accuracy: 0.3292\n",
            "Epoch 272/500\n",
            "8/8 [==============================] - 3s 422ms/step - loss: 1.4165 - accuracy: 0.3292\n",
            "Epoch 273/500\n",
            "8/8 [==============================] - 3s 422ms/step - loss: 1.4169 - accuracy: 0.3292\n",
            "Epoch 274/500\n",
            "8/8 [==============================] - 3s 425ms/step - loss: 1.4163 - accuracy: 0.3292\n",
            "Epoch 275/500\n",
            "8/8 [==============================] - 3s 423ms/step - loss: 1.4165 - accuracy: 0.3292\n",
            "Epoch 276/500\n",
            "8/8 [==============================] - 3s 422ms/step - loss: 1.4161 - accuracy: 0.3292\n",
            "Epoch 277/500\n",
            "8/8 [==============================] - 3s 424ms/step - loss: 1.4150 - accuracy: 0.3292\n",
            "Epoch 278/500\n",
            "8/8 [==============================] - 3s 423ms/step - loss: 1.4152 - accuracy: 0.3292\n",
            "Epoch 279/500\n",
            "8/8 [==============================] - 3s 423ms/step - loss: 1.4154 - accuracy: 0.3292\n",
            "Epoch 280/500\n",
            "8/8 [==============================] - 3s 421ms/step - loss: 1.4165 - accuracy: 0.3292\n",
            "Epoch 281/500\n",
            "8/8 [==============================] - 3s 422ms/step - loss: 1.4178 - accuracy: 0.3292\n",
            "Epoch 282/500\n",
            "8/8 [==============================] - 3s 422ms/step - loss: 1.4155 - accuracy: 0.3292\n",
            "Epoch 283/500\n",
            "8/8 [==============================] - 3s 421ms/step - loss: 1.4168 - accuracy: 0.3292\n",
            "Epoch 284/500\n",
            "8/8 [==============================] - 3s 423ms/step - loss: 1.4158 - accuracy: 0.3292\n",
            "Epoch 285/500\n",
            "8/8 [==============================] - 3s 424ms/step - loss: 1.4170 - accuracy: 0.3292\n",
            "Epoch 286/500\n",
            "8/8 [==============================] - 3s 423ms/step - loss: 1.4152 - accuracy: 0.3292\n",
            "Epoch 287/500\n",
            "8/8 [==============================] - 3s 422ms/step - loss: 1.4152 - accuracy: 0.3292\n",
            "Epoch 288/500\n",
            "8/8 [==============================] - 3s 421ms/step - loss: 1.4153 - accuracy: 0.3292\n",
            "Epoch 289/500\n",
            "8/8 [==============================] - 3s 423ms/step - loss: 1.4165 - accuracy: 0.3292\n",
            "Epoch 290/500\n",
            "8/8 [==============================] - 3s 424ms/step - loss: 1.4174 - accuracy: 0.3292\n",
            "Epoch 291/500\n",
            "8/8 [==============================] - 3s 423ms/step - loss: 1.4182 - accuracy: 0.3292\n",
            "Epoch 292/500\n",
            "8/8 [==============================] - 3s 421ms/step - loss: 1.4180 - accuracy: 0.3292\n",
            "Epoch 293/500\n",
            "8/8 [==============================] - 3s 422ms/step - loss: 1.4152 - accuracy: 0.3292\n",
            "Epoch 294/500\n",
            "8/8 [==============================] - 3s 423ms/step - loss: 1.4160 - accuracy: 0.3292\n",
            "Epoch 295/500\n",
            "8/8 [==============================] - 3s 422ms/step - loss: 1.4175 - accuracy: 0.3292\n",
            "Epoch 296/500\n",
            "8/8 [==============================] - 3s 423ms/step - loss: 1.4161 - accuracy: 0.3292\n",
            "Epoch 297/500\n",
            "8/8 [==============================] - 3s 422ms/step - loss: 1.4181 - accuracy: 0.3292\n",
            "Epoch 298/500\n",
            "8/8 [==============================] - 3s 422ms/step - loss: 1.4153 - accuracy: 0.3292\n",
            "Epoch 299/500\n",
            "8/8 [==============================] - 3s 424ms/step - loss: 1.4164 - accuracy: 0.3292\n",
            "Epoch 300/500\n",
            "8/8 [==============================] - 3s 421ms/step - loss: 1.4168 - accuracy: 0.3292\n",
            "Epoch 301/500\n",
            "8/8 [==============================] - 3s 420ms/step - loss: 1.4179 - accuracy: 0.3292\n",
            "Epoch 302/500\n",
            "8/8 [==============================] - 3s 422ms/step - loss: 1.4165 - accuracy: 0.3292\n",
            "Epoch 303/500\n",
            "8/8 [==============================] - 3s 424ms/step - loss: 1.4166 - accuracy: 0.3292\n",
            "Epoch 304/500\n",
            "8/8 [==============================] - 3s 423ms/step - loss: 1.4160 - accuracy: 0.3292\n",
            "Epoch 305/500\n",
            "8/8 [==============================] - 3s 425ms/step - loss: 1.4169 - accuracy: 0.3292\n",
            "Epoch 306/500\n",
            "8/8 [==============================] - 3s 422ms/step - loss: 1.4168 - accuracy: 0.3292\n",
            "Epoch 307/500\n",
            "8/8 [==============================] - 3s 423ms/step - loss: 1.4162 - accuracy: 0.3292\n",
            "Epoch 308/500\n",
            "8/8 [==============================] - 3s 421ms/step - loss: 1.4175 - accuracy: 0.3292\n",
            "Epoch 309/500\n",
            "8/8 [==============================] - 3s 422ms/step - loss: 1.4170 - accuracy: 0.3292\n",
            "Epoch 310/500\n",
            "8/8 [==============================] - 3s 422ms/step - loss: 1.4174 - accuracy: 0.3292\n",
            "Epoch 311/500\n",
            "8/8 [==============================] - 3s 420ms/step - loss: 1.4166 - accuracy: 0.3292\n",
            "Epoch 312/500\n",
            "8/8 [==============================] - 3s 423ms/step - loss: 1.4153 - accuracy: 0.3292\n",
            "Epoch 313/500\n",
            "8/8 [==============================] - 3s 420ms/step - loss: 1.4166 - accuracy: 0.3292\n",
            "Epoch 314/500\n",
            "8/8 [==============================] - 3s 422ms/step - loss: 1.4159 - accuracy: 0.3292\n",
            "Epoch 315/500\n",
            "8/8 [==============================] - 3s 421ms/step - loss: 1.4163 - accuracy: 0.3292\n",
            "Epoch 316/500\n",
            "8/8 [==============================] - 3s 421ms/step - loss: 1.4170 - accuracy: 0.3292\n",
            "Epoch 317/500\n",
            "8/8 [==============================] - 3s 423ms/step - loss: 1.4157 - accuracy: 0.3292\n",
            "Epoch 318/500\n",
            "8/8 [==============================] - 3s 422ms/step - loss: 1.4188 - accuracy: 0.3292\n",
            "Epoch 319/500\n",
            "8/8 [==============================] - 3s 424ms/step - loss: 1.4159 - accuracy: 0.3292\n",
            "Epoch 320/500\n",
            "8/8 [==============================] - 3s 423ms/step - loss: 1.4150 - accuracy: 0.3292\n",
            "Epoch 321/500\n",
            "8/8 [==============================] - 3s 422ms/step - loss: 1.4174 - accuracy: 0.3292\n",
            "Epoch 322/500\n",
            "8/8 [==============================] - 3s 424ms/step - loss: 1.4162 - accuracy: 0.3292\n",
            "Epoch 323/500\n",
            "8/8 [==============================] - 3s 424ms/step - loss: 1.4158 - accuracy: 0.3292\n",
            "Epoch 324/500\n",
            "8/8 [==============================] - 3s 423ms/step - loss: 1.4163 - accuracy: 0.3292\n",
            "Epoch 325/500\n",
            "8/8 [==============================] - 3s 423ms/step - loss: 1.4170 - accuracy: 0.3292\n",
            "Epoch 326/500\n",
            "8/8 [==============================] - 3s 419ms/step - loss: 1.4182 - accuracy: 0.3292\n",
            "Epoch 327/500\n",
            "8/8 [==============================] - 3s 421ms/step - loss: 1.4152 - accuracy: 0.3292\n",
            "Epoch 328/500\n",
            "8/8 [==============================] - 3s 422ms/step - loss: 1.4165 - accuracy: 0.3292\n",
            "Epoch 329/500\n",
            "8/8 [==============================] - 3s 426ms/step - loss: 1.4151 - accuracy: 0.3292\n",
            "Epoch 330/500\n",
            "8/8 [==============================] - 3s 421ms/step - loss: 1.4147 - accuracy: 0.3292\n",
            "Epoch 331/500\n",
            "8/8 [==============================] - 3s 423ms/step - loss: 1.4170 - accuracy: 0.3292\n",
            "Epoch 332/500\n",
            "8/8 [==============================] - 3s 425ms/step - loss: 1.4160 - accuracy: 0.3292\n",
            "Epoch 333/500\n",
            "8/8 [==============================] - 3s 420ms/step - loss: 1.4166 - accuracy: 0.3292\n",
            "Epoch 334/500\n",
            "8/8 [==============================] - 3s 424ms/step - loss: 1.4161 - accuracy: 0.3292\n",
            "Epoch 335/500\n",
            "8/8 [==============================] - 3s 421ms/step - loss: 1.4156 - accuracy: 0.3292\n",
            "Epoch 336/500\n",
            "8/8 [==============================] - 3s 423ms/step - loss: 1.4177 - accuracy: 0.3292\n",
            "Epoch 337/500\n",
            "8/8 [==============================] - 3s 424ms/step - loss: 1.4164 - accuracy: 0.3292\n",
            "Epoch 338/500\n",
            "8/8 [==============================] - 3s 420ms/step - loss: 1.4160 - accuracy: 0.3292\n",
            "Epoch 339/500\n",
            "8/8 [==============================] - 3s 422ms/step - loss: 1.4167 - accuracy: 0.3292\n",
            "Epoch 340/500\n",
            "8/8 [==============================] - 3s 423ms/step - loss: 1.4158 - accuracy: 0.3292\n",
            "Epoch 341/500\n",
            "8/8 [==============================] - 3s 423ms/step - loss: 1.4186 - accuracy: 0.3292\n",
            "Epoch 342/500\n",
            "8/8 [==============================] - 3s 417ms/step - loss: 1.4158 - accuracy: 0.3292\n",
            "Epoch 343/500\n",
            "8/8 [==============================] - 3s 423ms/step - loss: 1.4169 - accuracy: 0.3292\n",
            "Epoch 344/500\n",
            "8/8 [==============================] - 3s 419ms/step - loss: 1.4183 - accuracy: 0.3292\n",
            "Epoch 345/500\n",
            "8/8 [==============================] - 3s 422ms/step - loss: 1.4172 - accuracy: 0.3292\n",
            "Epoch 346/500\n",
            "8/8 [==============================] - 3s 422ms/step - loss: 1.4158 - accuracy: 0.3292\n",
            "Epoch 347/500\n",
            "8/8 [==============================] - 3s 421ms/step - loss: 1.4162 - accuracy: 0.3292\n",
            "Epoch 348/500\n",
            "8/8 [==============================] - 3s 421ms/step - loss: 1.4154 - accuracy: 0.3292\n",
            "Epoch 349/500\n",
            "8/8 [==============================] - 3s 421ms/step - loss: 1.4172 - accuracy: 0.3292\n",
            "Epoch 350/500\n",
            "8/8 [==============================] - 3s 422ms/step - loss: 1.4176 - accuracy: 0.3292\n",
            "Epoch 351/500\n",
            "8/8 [==============================] - 3s 422ms/step - loss: 1.4175 - accuracy: 0.3292\n",
            "Epoch 352/500\n",
            "8/8 [==============================] - 3s 423ms/step - loss: 1.4165 - accuracy: 0.3292\n",
            "Epoch 353/500\n",
            "8/8 [==============================] - 3s 423ms/step - loss: 1.4155 - accuracy: 0.3292\n",
            "Epoch 354/500\n",
            "8/8 [==============================] - 3s 424ms/step - loss: 1.4154 - accuracy: 0.3292\n",
            "Epoch 355/500\n",
            "8/8 [==============================] - 3s 423ms/step - loss: 1.4152 - accuracy: 0.3292\n",
            "Epoch 356/500\n",
            "8/8 [==============================] - 3s 421ms/step - loss: 1.4153 - accuracy: 0.3292\n",
            "Epoch 357/500\n",
            "8/8 [==============================] - 3s 426ms/step - loss: 1.4182 - accuracy: 0.3292\n",
            "Epoch 358/500\n",
            "8/8 [==============================] - 3s 425ms/step - loss: 1.4150 - accuracy: 0.3292\n",
            "Epoch 359/500\n",
            "8/8 [==============================] - 3s 424ms/step - loss: 1.4164 - accuracy: 0.3292\n",
            "Epoch 360/500\n",
            "8/8 [==============================] - 3s 423ms/step - loss: 1.4150 - accuracy: 0.3292\n",
            "Epoch 361/500\n",
            "8/8 [==============================] - 3s 424ms/step - loss: 1.4158 - accuracy: 0.3292\n",
            "Epoch 362/500\n",
            "8/8 [==============================] - 3s 423ms/step - loss: 1.4165 - accuracy: 0.3292\n",
            "Epoch 363/500\n",
            "8/8 [==============================] - 3s 422ms/step - loss: 1.4171 - accuracy: 0.3292\n",
            "Epoch 364/500\n",
            "8/8 [==============================] - 3s 424ms/step - loss: 1.4153 - accuracy: 0.3292\n",
            "Epoch 365/500\n",
            "8/8 [==============================] - 3s 423ms/step - loss: 1.4166 - accuracy: 0.3292\n",
            "Epoch 366/500\n",
            "8/8 [==============================] - 3s 421ms/step - loss: 1.4160 - accuracy: 0.3292\n",
            "Epoch 367/500\n",
            "8/8 [==============================] - 3s 421ms/step - loss: 1.4186 - accuracy: 0.3292\n",
            "Epoch 368/500\n",
            "8/8 [==============================] - 3s 422ms/step - loss: 1.4159 - accuracy: 0.3292\n",
            "Epoch 369/500\n",
            "8/8 [==============================] - 3s 422ms/step - loss: 1.4167 - accuracy: 0.3292\n",
            "Epoch 370/500\n",
            "8/8 [==============================] - 3s 421ms/step - loss: 1.4165 - accuracy: 0.3292\n",
            "Epoch 371/500\n",
            "8/8 [==============================] - 3s 423ms/step - loss: 1.4155 - accuracy: 0.3292\n",
            "Epoch 372/500\n",
            "8/8 [==============================] - 3s 421ms/step - loss: 1.4163 - accuracy: 0.3292\n",
            "Epoch 373/500\n",
            "8/8 [==============================] - 3s 422ms/step - loss: 1.4155 - accuracy: 0.3292\n",
            "Epoch 374/500\n",
            "8/8 [==============================] - 3s 422ms/step - loss: 1.4162 - accuracy: 0.3292\n",
            "Epoch 375/500\n",
            "8/8 [==============================] - 3s 423ms/step - loss: 1.4157 - accuracy: 0.3292\n",
            "Epoch 376/500\n",
            "8/8 [==============================] - 3s 420ms/step - loss: 1.4156 - accuracy: 0.3292\n",
            "Epoch 377/500\n",
            "8/8 [==============================] - 3s 421ms/step - loss: 1.4150 - accuracy: 0.3292\n",
            "Epoch 378/500\n",
            "8/8 [==============================] - 3s 420ms/step - loss: 1.4162 - accuracy: 0.3292\n",
            "Epoch 379/500\n",
            "8/8 [==============================] - 3s 423ms/step - loss: 1.4161 - accuracy: 0.3292\n",
            "Epoch 380/500\n",
            "8/8 [==============================] - 3s 420ms/step - loss: 1.4164 - accuracy: 0.3292\n",
            "Epoch 381/500\n",
            "8/8 [==============================] - 3s 423ms/step - loss: 1.4166 - accuracy: 0.3292\n",
            "Epoch 382/500\n",
            "8/8 [==============================] - 3s 421ms/step - loss: 1.4154 - accuracy: 0.3292\n",
            "Epoch 383/500\n",
            "8/8 [==============================] - 3s 423ms/step - loss: 1.4177 - accuracy: 0.3292\n",
            "Epoch 384/500\n",
            "8/8 [==============================] - 3s 425ms/step - loss: 1.4168 - accuracy: 0.3292\n",
            "Epoch 385/500\n",
            "8/8 [==============================] - 3s 424ms/step - loss: 1.4170 - accuracy: 0.3292\n",
            "Epoch 386/500\n",
            "8/8 [==============================] - 3s 423ms/step - loss: 1.4160 - accuracy: 0.3292\n",
            "Epoch 387/500\n",
            "8/8 [==============================] - 3s 422ms/step - loss: 1.4173 - accuracy: 0.3292\n",
            "Epoch 388/500\n",
            "8/8 [==============================] - 3s 425ms/step - loss: 1.4162 - accuracy: 0.3292\n",
            "Epoch 389/500\n",
            "8/8 [==============================] - 3s 422ms/step - loss: 1.4154 - accuracy: 0.3292\n",
            "Epoch 390/500\n",
            "8/8 [==============================] - 3s 420ms/step - loss: 1.4157 - accuracy: 0.3292\n",
            "Epoch 391/500\n",
            "8/8 [==============================] - 3s 421ms/step - loss: 1.4160 - accuracy: 0.3292\n",
            "Epoch 392/500\n",
            "8/8 [==============================] - 3s 420ms/step - loss: 1.4161 - accuracy: 0.3292\n",
            "Epoch 393/500\n",
            "8/8 [==============================] - 3s 418ms/step - loss: 1.4164 - accuracy: 0.3292\n",
            "Epoch 394/500\n",
            "8/8 [==============================] - 3s 423ms/step - loss: 1.4174 - accuracy: 0.3292\n",
            "Epoch 395/500\n",
            "8/8 [==============================] - 3s 422ms/step - loss: 1.4160 - accuracy: 0.3292\n",
            "Epoch 396/500\n",
            "8/8 [==============================] - 3s 425ms/step - loss: 1.4152 - accuracy: 0.3292\n",
            "Epoch 397/500\n",
            "8/8 [==============================] - 3s 422ms/step - loss: 1.4157 - accuracy: 0.3292\n",
            "Epoch 398/500\n",
            "8/8 [==============================] - 3s 422ms/step - loss: 1.4175 - accuracy: 0.3292\n",
            "Epoch 399/500\n",
            "8/8 [==============================] - 3s 420ms/step - loss: 1.4164 - accuracy: 0.3292\n",
            "Epoch 400/500\n",
            "8/8 [==============================] - 3s 423ms/step - loss: 1.4183 - accuracy: 0.3292\n",
            "Epoch 401/500\n",
            "8/8 [==============================] - 3s 422ms/step - loss: 1.4167 - accuracy: 0.3292\n",
            "Epoch 402/500\n",
            "8/8 [==============================] - 3s 424ms/step - loss: 1.4162 - accuracy: 0.3292\n",
            "Epoch 403/500\n",
            "8/8 [==============================] - 3s 424ms/step - loss: 1.4169 - accuracy: 0.3292\n",
            "Epoch 404/500\n",
            "8/8 [==============================] - 3s 423ms/step - loss: 1.4173 - accuracy: 0.3292\n",
            "Epoch 405/500\n",
            "8/8 [==============================] - 3s 420ms/step - loss: 1.4162 - accuracy: 0.3292\n",
            "Epoch 406/500\n",
            "8/8 [==============================] - 3s 420ms/step - loss: 1.4166 - accuracy: 0.3292\n",
            "Epoch 407/500\n",
            "8/8 [==============================] - 3s 421ms/step - loss: 1.4162 - accuracy: 0.3292\n",
            "Epoch 408/500\n",
            "8/8 [==============================] - 3s 424ms/step - loss: 1.4155 - accuracy: 0.3292\n",
            "Epoch 409/500\n",
            "8/8 [==============================] - 3s 423ms/step - loss: 1.4157 - accuracy: 0.3292\n",
            "Epoch 410/500\n",
            "8/8 [==============================] - 3s 422ms/step - loss: 1.4163 - accuracy: 0.3292\n",
            "Epoch 411/500\n",
            "8/8 [==============================] - 3s 424ms/step - loss: 1.4171 - accuracy: 0.3292\n",
            "Epoch 412/500\n",
            "8/8 [==============================] - 3s 420ms/step - loss: 1.4179 - accuracy: 0.3292\n",
            "Epoch 413/500\n",
            "8/8 [==============================] - 3s 424ms/step - loss: 1.4172 - accuracy: 0.3292\n",
            "Epoch 414/500\n",
            "8/8 [==============================] - 3s 423ms/step - loss: 1.4163 - accuracy: 0.3292\n",
            "Epoch 415/500\n",
            "8/8 [==============================] - 3s 425ms/step - loss: 1.4185 - accuracy: 0.3292\n",
            "Epoch 416/500\n",
            "8/8 [==============================] - 3s 422ms/step - loss: 1.4171 - accuracy: 0.3292\n",
            "Epoch 417/500\n",
            "8/8 [==============================] - 3s 422ms/step - loss: 1.4178 - accuracy: 0.3292\n",
            "Epoch 418/500\n",
            "8/8 [==============================] - 3s 425ms/step - loss: 1.4166 - accuracy: 0.3292\n",
            "Epoch 419/500\n",
            "8/8 [==============================] - 3s 419ms/step - loss: 1.4170 - accuracy: 0.3292\n",
            "Epoch 420/500\n",
            "8/8 [==============================] - 3s 423ms/step - loss: 1.4163 - accuracy: 0.3292\n",
            "Epoch 421/500\n",
            "8/8 [==============================] - 3s 422ms/step - loss: 1.4155 - accuracy: 0.3292\n",
            "Epoch 422/500\n",
            "8/8 [==============================] - 3s 424ms/step - loss: 1.4183 - accuracy: 0.3292\n",
            "Epoch 423/500\n",
            "8/8 [==============================] - 3s 423ms/step - loss: 1.4162 - accuracy: 0.3292\n",
            "Epoch 424/500\n",
            "8/8 [==============================] - 3s 420ms/step - loss: 1.4162 - accuracy: 0.3292\n",
            "Epoch 425/500\n",
            "8/8 [==============================] - 3s 422ms/step - loss: 1.4168 - accuracy: 0.3292\n",
            "Epoch 426/500\n",
            "8/8 [==============================] - 3s 423ms/step - loss: 1.4159 - accuracy: 0.3292\n",
            "Epoch 427/500\n",
            "8/8 [==============================] - 3s 421ms/step - loss: 1.4171 - accuracy: 0.3292\n",
            "Epoch 428/500\n",
            "8/8 [==============================] - 3s 420ms/step - loss: 1.4167 - accuracy: 0.3292\n",
            "Epoch 429/500\n",
            "8/8 [==============================] - 3s 425ms/step - loss: 1.4162 - accuracy: 0.3292\n",
            "Epoch 430/500\n",
            "8/8 [==============================] - 3s 422ms/step - loss: 1.4171 - accuracy: 0.3292\n",
            "Epoch 431/500\n",
            "8/8 [==============================] - 3s 422ms/step - loss: 1.4160 - accuracy: 0.3292\n",
            "Epoch 432/500\n",
            "8/8 [==============================] - 3s 421ms/step - loss: 1.4167 - accuracy: 0.3292\n",
            "Epoch 433/500\n",
            "8/8 [==============================] - 3s 423ms/step - loss: 1.4175 - accuracy: 0.3292\n",
            "Epoch 434/500\n",
            "8/8 [==============================] - 3s 421ms/step - loss: 1.4161 - accuracy: 0.3292\n",
            "Epoch 435/500\n",
            "8/8 [==============================] - 3s 426ms/step - loss: 1.4177 - accuracy: 0.3292\n",
            "Epoch 436/500\n",
            "8/8 [==============================] - 3s 421ms/step - loss: 1.4166 - accuracy: 0.3292\n",
            "Epoch 437/500\n",
            "8/8 [==============================] - 3s 423ms/step - loss: 1.4172 - accuracy: 0.3292\n",
            "Epoch 438/500\n",
            "8/8 [==============================] - 3s 423ms/step - loss: 1.4169 - accuracy: 0.3292\n",
            "Epoch 439/500\n",
            "8/8 [==============================] - 3s 421ms/step - loss: 1.4166 - accuracy: 0.3292\n",
            "Epoch 440/500\n",
            "8/8 [==============================] - 3s 423ms/step - loss: 1.4169 - accuracy: 0.3292\n",
            "Epoch 441/500\n",
            "8/8 [==============================] - 3s 423ms/step - loss: 1.4181 - accuracy: 0.3292\n",
            "Epoch 442/500\n",
            "8/8 [==============================] - 3s 422ms/step - loss: 1.4168 - accuracy: 0.3292\n",
            "Epoch 443/500\n",
            "8/8 [==============================] - 3s 422ms/step - loss: 1.4150 - accuracy: 0.3292\n",
            "Epoch 444/500\n",
            "8/8 [==============================] - 3s 421ms/step - loss: 1.4175 - accuracy: 0.3292\n",
            "Epoch 445/500\n",
            "8/8 [==============================] - 3s 424ms/step - loss: 1.4153 - accuracy: 0.3292\n",
            "Epoch 446/500\n",
            "8/8 [==============================] - 3s 423ms/step - loss: 1.4172 - accuracy: 0.3292\n",
            "Epoch 447/500\n",
            "8/8 [==============================] - 3s 422ms/step - loss: 1.4159 - accuracy: 0.3292\n",
            "Epoch 448/500\n",
            "8/8 [==============================] - 3s 423ms/step - loss: 1.4161 - accuracy: 0.3292\n",
            "Epoch 449/500\n",
            "8/8 [==============================] - 3s 425ms/step - loss: 1.4151 - accuracy: 0.3292\n",
            "Epoch 450/500\n",
            "8/8 [==============================] - 3s 424ms/step - loss: 1.4156 - accuracy: 0.3292\n",
            "Epoch 451/500\n",
            "8/8 [==============================] - 3s 423ms/step - loss: 1.4154 - accuracy: 0.3292\n",
            "Epoch 452/500\n",
            "8/8 [==============================] - 3s 422ms/step - loss: 1.4173 - accuracy: 0.3292\n",
            "Epoch 453/500\n",
            "8/8 [==============================] - 3s 423ms/step - loss: 1.4171 - accuracy: 0.3292\n",
            "Epoch 454/500\n",
            "8/8 [==============================] - 3s 425ms/step - loss: 1.4182 - accuracy: 0.3292\n",
            "Epoch 455/500\n",
            "8/8 [==============================] - 3s 420ms/step - loss: 1.4159 - accuracy: 0.3292\n",
            "Epoch 456/500\n",
            "8/8 [==============================] - 3s 421ms/step - loss: 1.4153 - accuracy: 0.3292\n",
            "Epoch 457/500\n",
            "8/8 [==============================] - 3s 421ms/step - loss: 1.4155 - accuracy: 0.3292\n",
            "Epoch 458/500\n",
            "8/8 [==============================] - 3s 420ms/step - loss: 1.4164 - accuracy: 0.3292\n",
            "Epoch 459/500\n",
            "8/8 [==============================] - 3s 422ms/step - loss: 1.4162 - accuracy: 0.3292\n",
            "Epoch 460/500\n",
            "8/8 [==============================] - 3s 423ms/step - loss: 1.4188 - accuracy: 0.3292\n",
            "Epoch 461/500\n",
            "8/8 [==============================] - 3s 423ms/step - loss: 1.4163 - accuracy: 0.3292\n",
            "Epoch 462/500\n",
            "8/8 [==============================] - 3s 422ms/step - loss: 1.4157 - accuracy: 0.3292\n",
            "Epoch 463/500\n",
            "8/8 [==============================] - 3s 421ms/step - loss: 1.4163 - accuracy: 0.3292\n",
            "Epoch 464/500\n",
            "8/8 [==============================] - 3s 422ms/step - loss: 1.4157 - accuracy: 0.3292\n",
            "Epoch 465/500\n",
            "8/8 [==============================] - 3s 425ms/step - loss: 1.4164 - accuracy: 0.3292\n",
            "Epoch 466/500\n",
            "8/8 [==============================] - 3s 421ms/step - loss: 1.4164 - accuracy: 0.3292\n",
            "Epoch 467/500\n",
            "8/8 [==============================] - 3s 423ms/step - loss: 1.4166 - accuracy: 0.3292\n",
            "Epoch 468/500\n",
            "8/8 [==============================] - 3s 422ms/step - loss: 1.4167 - accuracy: 0.3292\n",
            "Epoch 469/500\n",
            "8/8 [==============================] - 3s 422ms/step - loss: 1.4179 - accuracy: 0.3292\n",
            "Epoch 470/500\n",
            "8/8 [==============================] - 3s 424ms/step - loss: 1.4159 - accuracy: 0.3292\n",
            "Epoch 471/500\n",
            "8/8 [==============================] - 3s 422ms/step - loss: 1.4174 - accuracy: 0.3292\n",
            "Epoch 472/500\n",
            "8/8 [==============================] - 3s 426ms/step - loss: 1.4159 - accuracy: 0.3292\n",
            "Epoch 473/500\n",
            "8/8 [==============================] - 3s 422ms/step - loss: 1.4179 - accuracy: 0.3292\n",
            "Epoch 474/500\n",
            "8/8 [==============================] - 3s 425ms/step - loss: 1.4162 - accuracy: 0.3292\n",
            "Epoch 475/500\n",
            "8/8 [==============================] - 3s 421ms/step - loss: 1.4156 - accuracy: 0.3292\n",
            "Epoch 476/500\n",
            "8/8 [==============================] - 3s 420ms/step - loss: 1.4158 - accuracy: 0.3292\n",
            "Epoch 477/500\n",
            "8/8 [==============================] - 3s 420ms/step - loss: 1.4154 - accuracy: 0.3292\n",
            "Epoch 478/500\n",
            "8/8 [==============================] - 3s 422ms/step - loss: 1.4157 - accuracy: 0.3292\n",
            "Epoch 479/500\n",
            "8/8 [==============================] - 3s 423ms/step - loss: 1.4153 - accuracy: 0.3292\n",
            "Epoch 480/500\n",
            "8/8 [==============================] - 3s 419ms/step - loss: 1.4176 - accuracy: 0.3292\n",
            "Epoch 481/500\n",
            "8/8 [==============================] - 3s 423ms/step - loss: 1.4161 - accuracy: 0.3292\n",
            "Epoch 482/500\n",
            "8/8 [==============================] - 3s 422ms/step - loss: 1.4177 - accuracy: 0.3292\n",
            "Epoch 483/500\n",
            "8/8 [==============================] - 3s 423ms/step - loss: 1.4167 - accuracy: 0.3292\n",
            "Epoch 484/500\n",
            "8/8 [==============================] - 3s 422ms/step - loss: 1.4176 - accuracy: 0.3292\n",
            "Epoch 485/500\n",
            "8/8 [==============================] - 3s 423ms/step - loss: 1.4165 - accuracy: 0.3292\n",
            "Epoch 486/500\n",
            "8/8 [==============================] - 3s 424ms/step - loss: 1.4179 - accuracy: 0.3292\n",
            "Epoch 487/500\n",
            "8/8 [==============================] - 3s 425ms/step - loss: 1.4176 - accuracy: 0.3292\n",
            "Epoch 488/500\n",
            "8/8 [==============================] - 3s 423ms/step - loss: 1.4157 - accuracy: 0.3292\n",
            "Epoch 489/500\n",
            "8/8 [==============================] - 3s 425ms/step - loss: 1.4153 - accuracy: 0.3292\n",
            "Epoch 490/500\n",
            "8/8 [==============================] - 3s 422ms/step - loss: 1.4159 - accuracy: 0.3292\n",
            "Epoch 491/500\n",
            "8/8 [==============================] - 3s 421ms/step - loss: 1.4166 - accuracy: 0.3292\n",
            "Epoch 492/500\n",
            "8/8 [==============================] - 3s 424ms/step - loss: 1.4174 - accuracy: 0.3292\n",
            "Epoch 493/500\n",
            "8/8 [==============================] - 3s 423ms/step - loss: 1.4156 - accuracy: 0.3292\n",
            "Epoch 494/500\n",
            "8/8 [==============================] - 3s 423ms/step - loss: 1.4161 - accuracy: 0.3292\n",
            "Epoch 495/500\n",
            "8/8 [==============================] - 3s 423ms/step - loss: 1.4160 - accuracy: 0.3292\n",
            "Epoch 496/500\n",
            "8/8 [==============================] - 3s 423ms/step - loss: 1.4173 - accuracy: 0.3292\n",
            "Epoch 497/500\n",
            "8/8 [==============================] - 3s 422ms/step - loss: 1.4161 - accuracy: 0.3292\n",
            "Epoch 498/500\n",
            "8/8 [==============================] - 3s 421ms/step - loss: 1.4164 - accuracy: 0.3292\n",
            "Epoch 499/500\n",
            "8/8 [==============================] - 3s 425ms/step - loss: 1.4170 - accuracy: 0.3292\n",
            "Epoch 500/500\n",
            "8/8 [==============================] - 3s 417ms/step - loss: 1.4158 - accuracy: 0.3292\n"
          ]
        },
        {
          "output_type": "execute_result",
          "data": {
            "text/plain": [
              "<keras.callbacks.History at 0x7fe9ea0ae6d0>"
            ]
          },
          "metadata": {},
          "execution_count": 32
        }
      ],
      "source": [
        "num_classes = 5\n",
        "input_shape=(5, 1000, 760,1)\n",
        "\n",
        "model2 = Sequential([\n",
        "  data_augmentation,\n",
        "\n",
        "  #Convolutional Network\n",
        "  layers.Conv2D(16, 3, padding='same', activation='relu', input_shape=input_shape[1:]),\n",
        "  layers.MaxPooling2D(),\n",
        "\n",
        "  layers.Conv2D(32, 3, padding='same', activation='relu'),\n",
        "  layers.MaxPooling2D(),\n",
        "\n",
        "  layers.Conv2D(64, 3, padding='same', activation='relu'),\n",
        "  layers.MaxPooling2D(),\n",
        "\n",
        "  layers.Dropout(0.2),\n",
        "\n",
        "  layers.Conv2D(16, 3, padding='same', activation='relu',),\n",
        "  layers.MaxPooling2D(),\n",
        "\n",
        "  layers.Conv2D(32, 3, padding='same', activation='relu'),\n",
        "  layers.MaxPooling2D(),\n",
        "\n",
        "  layers.Conv2D(64, 3, padding='same', activation='relu'),\n",
        "  layers.MaxPooling2D(),\n",
        "\n",
        "  #Dense network\n",
        "  layers.Flatten(),\n",
        "  layers.Dense(5000, activation='sigmoid'),\n",
        "  layers.Dense(500, activation='sigmoid'),\n",
        "  layers.Dense(50, activation='sigmoid'),\n",
        "  layers.Dense(num_classes,activation='softmax' )\n",
        "])\n",
        "\n",
        "model2.compile(optimizer='SGD',\n",
        "              loss=tf.keras.losses.SparseCategoricalCrossentropy(from_logits=True),\n",
        "              metrics=['accuracy'])\n",
        "              \n",
        "model2.fit(X_train_scaled, y_train, epochs=500) "
      ]
    },
    {
      "cell_type": "code",
      "execution_count": null,
      "metadata": {
        "colab": {
          "base_uri": "https://localhost:8080/"
        },
        "id": "8kOqlf2kR_aN",
        "outputId": "b212eec5-d149-4e52-96b6-ba56eee0985c"
      },
      "outputs": [
        {
          "output_type": "stream",
          "name": "stderr",
          "text": [
            "/usr/local/lib/python3.7/dist-packages/tensorflow/python/util/dispatch.py:1082: UserWarning: \"`sparse_categorical_crossentropy` received `from_logits=True`, but the `output` argument was produced by a sigmoid or softmax activation and thus does not represent logits. Was this intended?\"\n",
            "  return dispatch_target(*args, **kwargs)\n"
          ]
        },
        {
          "output_type": "stream",
          "name": "stdout",
          "text": [
            "3/3 [==============================] - 1s 130ms/step - loss: 1.4367 - accuracy: 0.4268\n"
          ]
        },
        {
          "output_type": "execute_result",
          "data": {
            "text/plain": [
              "[1.436655879020691, 0.4268292784690857]"
            ]
          },
          "metadata": {},
          "execution_count": 33
        }
      ],
      "source": [
        "model2.evaluate(X_test_scaled,y_test)"
      ]
    },
    {
      "cell_type": "code",
      "source": [
        "from sklearn.metrics import confusion_matrix, classification_report\n",
        "import numpy as np\n",
        "y_pred = model2.predict(X_test_scaled)"
      ],
      "metadata": {
        "id": "n8trAS-Io36d"
      },
      "execution_count": null,
      "outputs": []
    },
    {
      "cell_type": "markdown",
      "metadata": {
        "id": "WtMaQR3qR_aO"
      },
      "source": [
        "### You can see that by using data augmentation and drop out layer the accuracy of test set predictions is slightly increased to 34.15%"
      ]
    },
    {
      "cell_type": "code",
      "execution_count": null,
      "metadata": {
        "id": "rafNH6QRR_aP"
      },
      "outputs": [],
      "source": [
        ""
      ]
    },
    {
      "cell_type": "code",
      "execution_count": null,
      "metadata": {
        "id": "ltWSWZp1R_aP"
      },
      "outputs": [],
      "source": [
        ""
      ]
    }
  ],
  "metadata": {
    "kernelspec": {
      "display_name": "Python 3",
      "language": "python",
      "name": "python3"
    },
    "language_info": {
      "codemirror_mode": {
        "name": "ipython",
        "version": 3
      },
      "file_extension": ".py",
      "mimetype": "text/x-python",
      "name": "python",
      "nbconvert_exporter": "python",
      "pygments_lexer": "ipython3",
      "version": "3.8.5"
    },
    "colab": {
      "name": "ImageClassifier.ipynb",
      "provenance": [],
      "collapsed_sections": [
        "UvyLOOKgR_aI",
        "a6W0-sGwR_aK",
        "ROcqOLNpR_aL",
        "WtMaQR3qR_aO"
      ]
    },
    "accelerator": "GPU"
  },
  "nbformat": 4,
  "nbformat_minor": 0
}